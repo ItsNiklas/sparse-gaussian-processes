{
 "cells": [
  {
   "cell_type": "markdown",
   "source": [
    "### Using Tree data"
   ],
   "metadata": {
    "collapsed": false
   }
  },
  {
   "cell_type": "code",
   "execution_count": null,
   "outputs": [],
   "source": [
    "import pandas as pd\n",
    "from sklearn import gaussian_process\n",
    "import matplotlib.pyplot as plt\n",
    "import numpy as np\n",
    "import seaborn as sns\n",
    "\n",
    "dendro = pd.read_feather(\"data/17766_12.feather\")\n",
    "dendro.dendroNr = (\n",
    "    dendro[[\"dendroNr\", \"year\"]].astype(str).agg(\"_\".join, axis=1)\n",
    ")  # Merge tree and year\n",
    "dendro"
   ],
   "metadata": {
    "collapsed": false
   }
  },
  {
   "cell_type": "code",
   "execution_count": null,
   "outputs": [],
   "source": [
    "from sklearn.gaussian_process.kernels import RBF\n",
    "\n",
    "tree_models = [\n",
    "    gaussian_process.GaussianProcessRegressor(\n",
    "        0.5 ** 2 * RBF(100, (1e-3, 1e8)), n_restarts_optimizer=1\n",
    "    )\n",
    "    for _ in range(3)\n",
    "]\n",
    "\n",
    "X = np.array(range(183)).reshape(-1, 1)\n",
    "\n",
    "for i, tree_model in enumerate(tree_models):\n",
    "    filt = dendro[\n",
    "        dendro.species.eq(pd.unique(dendro.species)[i]) & dendro.DOY.mod(30).eq(0)\n",
    "        ]  # Filter to prevent overfitting to data mean\n",
    "    tree_model.fit(filt.DOY.array.reshape(-1, 1), filt.growth - filt.growth.mean())\n",
    "    print(tree_model.kernel_)"
   ],
   "metadata": {
    "collapsed": false
   }
  },
  {
   "cell_type": "code",
   "execution_count": null,
   "outputs": [],
   "source": [
    "fig = plt.figure(figsize=(16, 9))\n",
    "sns.set_theme(style=\"whitegrid\", palette=\"pastel\")\n",
    "\n",
    "# All lines\n",
    "sns.lineplot(\n",
    "    data=dendro,\n",
    "    x=\"DOY\",\n",
    "    y=\"growth\",\n",
    "    style=\"species\",\n",
    "    units=\"dendroNr\",\n",
    "    lw=0.8,\n",
    "    estimator=None,\n",
    "    c=\"lightgray\",\n",
    "    alpha=0.5,\n",
    ")\n",
    "\n",
    "plt.gca().set(xlim=(0, 182))\n",
    "\n",
    "# Plot means\n",
    "sns.lineplot(\n",
    "    data=dendro,\n",
    "    x=\"DOY\",\n",
    "    y=\"growth\",\n",
    "    hue=\"species\",\n",
    "    # estimator=None,\n",
    "    # errorbar=('ci', 99),\n",
    "    errorbar=None,\n",
    "    lw=1,\n",
    "    zorder=2,\n",
    "    alpha=0.8,\n",
    ")\n",
    "\n",
    "X_test = np.linspace(0, 182, 300, True)\n",
    "# Plot GP\n",
    "for i, tree_model in enumerate(tree_models):\n",
    "    filt = dendro[dendro.species.eq(pd.unique(dendro.species)[i]) & dendro.DOY.mod(30).eq(0)]\n",
    "    sns.lineplot(\n",
    "        x=X_test,\n",
    "        y=tree_model.predict(X_test.reshape(-1, 1)).ravel() + filt.growth.mean(),\n",
    "        lw=4,\n",
    "        zorder=3,\n",
    "        color=sns.color_palette()[i if i == 0 else [2, 1][i - 1]],\n",
    "    )\n",
    "\n",
    "plt.show()"
   ],
   "metadata": {
    "collapsed": false
   }
  }
 ],
 "metadata": {
  "kernelspec": {
   "display_name": "Python 3",
   "language": "python",
   "name": "python3"
  },
  "language_info": {
   "codemirror_mode": {
    "name": "ipython",
    "version": 2
   },
   "file_extension": ".py",
   "mimetype": "text/x-python",
   "name": "python",
   "nbconvert_exporter": "python",
   "pygments_lexer": "ipython2",
   "version": "2.7.6"
  }
 },
 "nbformat": 4,
 "nbformat_minor": 0
}
