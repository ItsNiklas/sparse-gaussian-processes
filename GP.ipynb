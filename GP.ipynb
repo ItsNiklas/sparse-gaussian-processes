{
 "cells": [
  {
   "cell_type": "code",
   "execution_count": 1,
   "id": "d7e84342",
   "metadata": {},
   "outputs": [],
   "source": [
    "import jax.numpy as jnp"
   ]
  },
  {
   "cell_type": "code",
   "execution_count": 13,
   "id": "0d07400d",
   "metadata": {},
   "outputs": [],
   "source": [
    "# PLOTS\n",
    "import plotly.graph_objects as go\n",
    "\n",
    "\n",
    "def update_layout_of_graph(fig: go.Figure, title: str = 'Plot') -> go.Figure:\n",
    "    fig.update_layout(\n",
    "        width=800,\n",
    "        height=600,\n",
    "        autosize=False,\n",
    "        plot_bgcolor='rgba(0,0,0,0)',\n",
    "        title=title,\n",
    "\n",
    "    )\n",
    "    fig.update_layout(plot_bgcolor='rgba(0,0,0,0)',\n",
    "                      xaxis_title='input values',\n",
    "                      yaxis_title='output values',\n",
    "                      legend=dict(yanchor=\"top\",\n",
    "                                  y=0.9,\n",
    "                                  xanchor=\"right\",\n",
    "                                  x=0.95),\n",
    "                      title={\n",
    "                          'x': 0.5,\n",
    "                          'xanchor': 'center'\n",
    "                      })\n",
    "    fig.update_xaxes(showline=True, linewidth=1, linecolor='black')\n",
    "    fig.update_yaxes(showline=True, linewidth=1, linecolor='black')\n",
    "    return fig\n",
    "\n",
    "\n",
    "def line_scatter(\n",
    "        visible: bool = True,\n",
    "        x_lines: jnp.array = jnp.array([]),\n",
    "        y_lines: jnp.array = jnp.array([]),\n",
    "        name_line: str = 'Predicted function',\n",
    "        showlegend: bool = True,\n",
    ") -> go.Scatter:\n",
    "    # Adding the lines\n",
    "    return go.Scatter(\n",
    "        visible=visible,\n",
    "        line=dict(color=\"blue\", width=2),\n",
    "        x=x_lines,\n",
    "        y=y_lines,\n",
    "        name=name_line,\n",
    "        showlegend=showlegend\n",
    "    )\n",
    "\n",
    "\n",
    "def dot_scatter(\n",
    "        visible: bool = True,\n",
    "        x_dots: jnp.array = jnp.array([]),\n",
    "        y_dots: jnp.array = jnp.array([]),\n",
    "        name_dots: str = 'Observed points',\n",
    "        showlegend: bool = True\n",
    ") -> go.Scatter:\n",
    "    # Adding the dots\n",
    "    return go.Scatter(\n",
    "        x=x_dots,\n",
    "        visible=visible,\n",
    "        y=y_dots,\n",
    "        mode=\"markers\",\n",
    "        name=name_dots,\n",
    "        marker=dict(color='red', size=8),\n",
    "        showlegend=showlegend\n",
    "    )\n",
    "\n",
    "\n",
    "def uncertainty_area_scatter(\n",
    "        visible: bool = True,\n",
    "        x_lines: jnp.array = jnp.array([]),\n",
    "        y_upper: jnp.array = jnp.array([]),\n",
    "        y_lower: jnp.array = jnp.array([]),\n",
    "        name: str = \"mean plus/minus standard deviation\",\n",
    ") -> go.Scatter:\n",
    "    return go.Scatter(\n",
    "        visible=visible,\n",
    "        x=jnp.concatenate((x_lines, x_lines[::-1])),  # x, then x reversed\n",
    "        # upper, then lower reversed\n",
    "        y=jnp.concatenate((y_upper, y_lower[::-1])),\n",
    "        fill='toself',\n",
    "        fillcolor='rgba(189,195,199,0.5)',\n",
    "        line=dict(color='rgba(200,200,200,0)'),\n",
    "        hoverinfo=\"skip\",\n",
    "        showlegend=True,\n",
    "        name=name,\n",
    "    )\n",
    "\n",
    "\n",
    "def add_slider_GPR(figure: go.Figure, parameters):\n",
    "    figure.data[0].visible = True\n",
    "    figure.data[1].visible = True\n",
    "\n",
    "    # Create and add slider\n",
    "    steps = []\n",
    "    for i in range(int((len(figure.data) - 1) / 2)):\n",
    "        step = dict(\n",
    "            method=\"update\",\n",
    "            label=f'{parameters[i]: .2f}',\n",
    "            args=[{\n",
    "                \"visible\": [False] * (len(figure.data) - 1) + [True]\n",
    "            }],\n",
    "        )\n",
    "        step[\"args\"][0][\"visible\"][2 *\n",
    "                                   i] = True  # Toggle i'th trace to \"visible\"\n",
    "        step[\"args\"][0][\"visible\"][2 * i + 1] = True\n",
    "        steps.append(step)\n",
    "\n",
    "    sliders = [dict(\n",
    "        active=0,\n",
    "        pad={\"t\": 50},\n",
    "        steps=steps,\n",
    "    )]\n",
    "    figure.update_layout(sliders=sliders, )\n",
    "    return figure\n",
    "\n",
    "\n",
    "def add_slider_to_function(figure: go.Figure, parameters):\n",
    "    figure.data[0].visible = True\n",
    "\n",
    "    # Create and add slider\n",
    "    steps = []\n",
    "    for i in range(len(figure.data)):\n",
    "        step = dict(\n",
    "            method=\"update\",\n",
    "            label=f'{parameters[i]: .2f}',\n",
    "            args=[{\n",
    "                \"visible\": [False] * len(figure.data)\n",
    "            }],\n",
    "        )\n",
    "        step[\"args\"][0][\"visible\"][i] = True  # Toggle i'th trace to \"visible\"\n",
    "        steps.append(step)\n",
    "\n",
    "    sliders = [dict(\n",
    "        active=0,\n",
    "        pad={\"t\": 50},\n",
    "        steps=steps,\n",
    "    )]\n",
    "    figure.update_layout(sliders=sliders, )\n",
    "    return figure\n",
    "\n",
    "\n",
    "def plot_GPR(data_x, data_y, model, x, visible=True) -> list:\n",
    "    mean = model.predict(x)\n",
    "\n",
    "    std = jnp.sqrt(model._memory['variance'])\n",
    "    data = []\n",
    "\n",
    "    for i in range(1, 4):\n",
    "        data.append(\n",
    "            uncertainty_area_scatter(\n",
    "                x_lines=x,\n",
    "                y_lower=mean - i * std,\n",
    "                y_upper=mean + i * std,\n",
    "                name=f\"mean plus/minus {i}*standard deviation\",\n",
    "                visible=visible))\n",
    "\n",
    "    data.append(line_scatter(x_lines=x, y_lines=mean, visible=visible))\n",
    "    data.append(dot_scatter(x_dots=data_x, y_dots=data_y, visible=visible))\n",
    "    return data"
   ]
  },
  {
   "cell_type": "code",
   "execution_count": 3,
   "id": "6bcb0fac",
   "metadata": {},
   "outputs": [],
   "source": [
    "class SquaredExponentialKernel:\n",
    "    def __init__(self, sigma_f: float = 1, length: float = 1):\n",
    "        self.sigma_f = sigma_f\n",
    "        self.length = length\n",
    "\n",
    "    def __call__(self, argument_1, argument_2) -> float:\n",
    "        return float(self.sigma_f * jnp.exp(-(jnp.linalg.norm(argument_1 - argument_2) ** 2) / (2 * self.length ** 2)))\n",
    "\n",
    "\n",
    "# Helper function to calculate the respective covariance matrices\n",
    "def cov_matrix(x1, x2, cov_function):\n",
    "    return jnp.array([[cov_function(a, b) for a in x1] for b in x2])\n",
    "\n",
    "\n",
    "class GPR:\n",
    "    def __init__(self, data_x, data_y, covariance_function=SquaredExponentialKernel(), white_noise_sigma: float = 0):\n",
    "        self.noise = white_noise_sigma\n",
    "        self.data_x = data_x\n",
    "        self.data_y = data_y\n",
    "        self.covariance_function = covariance_function\n",
    "\n",
    "        # Store the inverse of covariance matrix of input (+ machine epsilon on diagonal) since it is needed for every prediction\n",
    "        self._inverse_of_covariance_matrix_of_input = jnp.linalg.inv(\n",
    "            cov_matrix(data_x, data_x, covariance_function) +\n",
    "            (3e-7 + self.noise) * jnp.identity(len(self.data_x)))\n",
    "\n",
    "        self._memory = None\n",
    "\n",
    "    # function to predict output at new input values. Store the mean and covariance matrix in memory.\n",
    "    def predict(self, at_values):\n",
    "        k_lower_left = cov_matrix(self.data_x, at_values, self.covariance_function)\n",
    "        k_lower_right = cov_matrix(at_values, at_values, self.covariance_function)\n",
    "\n",
    "        # Mean.\n",
    "        mean_at_values = jnp.dot(k_lower_left,\n",
    "                                 jnp.dot(self.data_y, self._inverse_of_covariance_matrix_of_input.T).T).flatten()\n",
    "\n",
    "        # Covariance.\n",
    "        cov_at_values = k_lower_right - jnp.dot(k_lower_left,\n",
    "                                                jnp.dot(self._inverse_of_covariance_matrix_of_input, k_lower_left.T))\n",
    "\n",
    "        # Adding value larger than machine epsilon to ensure positive semi definite\n",
    "        cov_at_values = cov_at_values + 3e-7 * jnp.ones(jnp.shape(cov_at_values)[0])\n",
    "\n",
    "        var_at_values = jnp.diag(cov_at_values)\n",
    "\n",
    "        self._memory = {\n",
    "            'mean': mean_at_values,\n",
    "            'covariance_matrix': cov_at_values,\n",
    "            'variance': var_at_values\n",
    "        }\n",
    "        return mean_at_values"
   ]
  },
  {
   "cell_type": "code",
   "execution_count": 4,
   "id": "d6715f0f",
   "metadata": {},
   "outputs": [],
   "source": [
    "x_values = jnp.array([0, 0.3, 1, 3.1, 4.7])\n",
    "\n",
    "y_values = jnp.array([1, 0, 1.4, 0, -0.9])\n",
    "\n",
    "x = jnp.arange(-1, 7, 0.1)"
   ]
  },
  {
   "cell_type": "code",
   "execution_count": 5,
   "id": "99f448ec",
   "metadata": {},
   "outputs": [
    {
     "data": {
      "text/plain": [
       "DeviceArray([ 4.74131870e+00,  4.68346167e+00,  4.52992773e+00,\n",
       "              4.28164673e+00,  3.94466066e+00,  3.53031325e+00,\n",
       "              3.05494356e+00,  2.53927827e+00,  2.00740910e+00,\n",
       "              1.48544598e+00,  9.99980271e-01,  5.76358259e-01,\n",
       "              2.37036407e-01,  2.08460606e-05, -1.22379646e-01,\n",
       "             -1.24415830e-01, -7.33258575e-03,  2.20683411e-01,\n",
       "              5.45146406e-01,  9.46194351e-01,  1.39999259e+00,\n",
       "              1.88031638e+00,  2.36026430e+00,  2.81392074e+00,\n",
       "              3.21788573e+00,  3.55252504e+00,  3.80291080e+00,\n",
       "              3.95935941e+00,  4.01756907e+00,  3.97844481e+00,\n",
       "              3.84754109e+00,  3.63432932e+00,  3.35124612e+00,\n",
       "              3.01271892e+00,  2.63413572e+00,  2.23095226e+00,\n",
       "              1.81786871e+00,  1.40819466e+00,  1.01338220e+00,\n",
       "              6.42745674e-01,  3.03342104e-01, -2.42002034e-06,\n",
       "             -2.64539897e-01, -4.89366204e-01, -6.75126791e-01,\n",
       "             -8.23698878e-01, -9.37867343e-01, -1.02101409e+00,\n",
       "             -1.07684779e+00, -1.10916722e+00, -1.12167394e+00,\n",
       "             -1.11783361e+00, -1.10078108e+00, -1.07326853e+00,\n",
       "             -1.03764713e+00, -9.95878577e-01, -9.49565887e-01,\n",
       "             -8.99999022e-01, -8.48207593e-01, -7.95013964e-01,\n",
       "             -7.41085649e-01, -6.86977923e-01, -6.33170366e-01,\n",
       "             -5.80094278e-01, -5.28147697e-01, -4.77705300e-01,\n",
       "             -4.29118812e-01, -3.82713497e-01, -3.38781685e-01,\n",
       "             -2.97572970e-01, -2.59286821e-01, -2.24066630e-01,\n",
       "             -1.91994607e-01, -1.63091436e-01, -1.37318268e-01,\n",
       "             -1.14581153e-01, -9.47388336e-02, -7.76106045e-02,\n",
       "             -6.29864559e-02, -5.06370291e-02], dtype=float32)"
      ]
     },
     "execution_count": 5,
     "metadata": {},
     "output_type": "execute_result"
    }
   ],
   "source": [
    "model = GPR(x_values, y_values, SquaredExponentialKernel())\n",
    "model.predict(x)"
   ]
  },
  {
   "cell_type": "code",
   "execution_count": 12,
   "id": "396b1984",
   "metadata": {},
   "outputs": [
    {
     "ename": "AttributeError",
     "evalue": "type object 'DOMWidget' has no attribute '_ipython_display_'",
     "output_type": "error",
     "traceback": [
      "\u001B[0;31m---------------------------------------------------------------------------\u001B[0m",
      "\u001B[0;31mAttributeError\u001B[0m                            Traceback (most recent call last)",
      "File \u001B[0;32m~/anaconda3/envs/3.11-liesel/lib/python3.11/site-packages/IPython/core/formatters.py:920\u001B[0m, in \u001B[0;36mIPythonDisplayFormatter.__call__\u001B[0;34m(self, obj)\u001B[0m\n\u001B[1;32m    918\u001B[0m method \u001B[38;5;241m=\u001B[39m get_real_method(obj, \u001B[38;5;28mself\u001B[39m\u001B[38;5;241m.\u001B[39mprint_method)\n\u001B[1;32m    919\u001B[0m \u001B[38;5;28;01mif\u001B[39;00m method \u001B[38;5;129;01mis\u001B[39;00m \u001B[38;5;129;01mnot\u001B[39;00m \u001B[38;5;28;01mNone\u001B[39;00m:\n\u001B[0;32m--> 920\u001B[0m     \u001B[43mmethod\u001B[49m\u001B[43m(\u001B[49m\u001B[43m)\u001B[49m\n\u001B[1;32m    921\u001B[0m     \u001B[38;5;28;01mreturn\u001B[39;00m \u001B[38;5;28;01mTrue\u001B[39;00m\n",
      "File \u001B[0;32m~/anaconda3/envs/3.11-liesel/lib/python3.11/site-packages/plotly/basewidget.py:741\u001B[0m, in \u001B[0;36mBaseFigureWidget._ipython_display_\u001B[0;34m(self)\u001B[0m\n\u001B[1;32m    737\u001B[0m \u001B[38;5;124;03m\"\"\"\u001B[39;00m\n\u001B[1;32m    738\u001B[0m \u001B[38;5;124;03mHandle rich display of figures in ipython contexts\u001B[39;00m\n\u001B[1;32m    739\u001B[0m \u001B[38;5;124;03m\"\"\"\u001B[39;00m\n\u001B[1;32m    740\u001B[0m \u001B[38;5;66;03m# Override BaseFigure's display to make sure we display the widget version\u001B[39;00m\n\u001B[0;32m--> 741\u001B[0m \u001B[43mwidgets\u001B[49m\u001B[38;5;241;43m.\u001B[39;49m\u001B[43mDOMWidget\u001B[49m\u001B[38;5;241;43m.\u001B[39;49m\u001B[43m_ipython_display_\u001B[49m(\u001B[38;5;28mself\u001B[39m)\n",
      "\u001B[0;31mAttributeError\u001B[0m: type object 'DOMWidget' has no attribute '_ipython_display_'"
     ]
    },
    {
     "data": {
      "application/vnd.plotly.v1+json": {
       "data": [
        {
         "line": {
          "color": "blue",
          "width": 2
         },
         "name": "Predicted function",
         "showlegend": true,
         "visible": true,
         "x": [
          -10.0,
          -9.899999618530273,
          -9.799999237060547,
          -9.69999885559082,
          -9.599998474121094,
          -9.499998092651367,
          -9.39999771118164,
          -9.299997329711914,
          -9.199996948242188,
          -9.099996566772461,
          -8.999996185302734,
          -8.899995803833008,
          -8.799995422363281,
          -8.699995040893555,
          -8.599994659423828,
          -8.499994277954102,
          -8.399993896484375,
          -8.299993515014648,
          -8.199993133544922,
          -8.099992752075195,
          -7.999992370605469,
          -7.899991989135742,
          -7.799991607666016,
          -7.699991226196289,
          -7.5999908447265625,
          -7.499990463256836,
          -7.399990081787109,
          -7.299989700317383,
          -7.199989318847656,
          -7.09998893737793,
          -6.999988555908203,
          -6.899988174438477,
          -6.79998779296875,
          -6.699987411499023,
          -6.599987030029297,
          -6.49998664855957,
          -6.399986267089844,
          -6.299985885620117,
          -6.199985504150391,
          -6.099985122680664,
          -5.9999847412109375,
          -5.899984359741211,
          -5.799983978271484,
          -5.699983596801758,
          -5.599983215332031,
          -5.499982833862305,
          -5.399982452392578,
          -5.299982070922852,
          -5.199981689453125,
          -5.099981307983398,
          -4.999980926513672,
          -4.899980545043945,
          -4.799980163574219,
          -4.699979782104492,
          -4.599979400634766,
          -4.499979019165039,
          -4.3999786376953125,
          -4.299978256225586,
          -4.199977874755859,
          -4.099977493286133,
          -3.9999771118164062,
          -3.8999767303466797,
          -3.799976348876953,
          -3.6999759674072266,
          -3.5999755859375,
          -3.4999752044677734,
          -3.399974822998047,
          -3.2999744415283203,
          -3.1999740600585938,
          -3.099973678588867,
          -2.9999732971191406,
          -2.899972915649414,
          -2.7999725341796875,
          -2.699972152709961,
          -2.5999717712402344,
          -2.499971389770508,
          -2.3999710083007812,
          -2.2999706268310547,
          -2.199970245361328,
          -2.0999698638916016,
          -1.999969482421875,
          -1.8999691009521484,
          -1.7999687194824219,
          -1.6999683380126953,
          -1.5999679565429688,
          -1.4999675750732422,
          -1.3999671936035156,
          -1.299966812133789,
          -1.1999664306640625,
          -1.099966049194336,
          -0.9999656677246094,
          -0.8999652862548828,
          -0.7999649047851562,
          -0.6999645233154297,
          -0.5999641418457031,
          -0.49996376037597656,
          -0.39996337890625,
          -0.29996299743652344,
          -0.19996261596679688,
          -0.09996223449707031,
          3.814697265625E-5,
          0.10003852844238281,
          0.20003890991210938,
          0.30003929138183594,
          0.4000396728515625,
          0.5000400543212891,
          0.6000404357910156,
          0.7000408172607422,
          0.8000411987304688,
          0.9000415802001953,
          1.0000419616699219,
          1.1000423431396484,
          1.200042724609375,
          1.3000431060791016,
          1.4000434875488281,
          1.5000438690185547,
          1.6000442504882812,
          1.7000446319580078,
          1.8000450134277344,
          1.900045394897461,
          2.0000457763671875,
          2.100046157836914,
          2.2000465393066406,
          2.300046920776367,
          2.4000473022460938,
          2.5000476837158203,
          2.600048065185547,
          2.7000484466552734,
          2.800048828125,
          2.9000492095947266,
          3.000049591064453,
          3.1000499725341797,
          3.2000503540039062,
          3.300050735473633,
          3.4000511169433594,
          3.500051498413086,
          3.6000518798828125,
          3.700052261352539,
          3.8000526428222656,
          3.900053024291992,
          4.000053405761719,
          4.100053787231445,
          4.200054168701172,
          4.300054550170898,
          4.400054931640625,
          4.500055313110352,
          4.600055694580078,
          4.700056076049805,
          4.800056457519531,
          4.900056838989258,
          5.000057220458984,
          5.100057601928711,
          5.2000579833984375,
          5.300058364868164,
          5.400058746337891,
          5.500059127807617,
          5.600059509277344,
          5.70005989074707,
          5.800060272216797,
          5.900060653686523,
          6.00006103515625,
          6.100061416625977,
          6.200061798095703,
          6.30006217956543,
          6.400062561035156,
          6.500062942504883,
          6.600063323974609,
          6.700063705444336,
          6.8000640869140625,
          6.900064468383789,
          7.000064849853516,
          7.100065231323242,
          7.200065612792969,
          7.300065994262695,
          7.400066375732422,
          7.500066757202148,
          7.600067138671875,
          7.700067520141602,
          7.800067901611328,
          7.900068283081055,
          8.000068664550781,
          8.100069046020508,
          8.200069427490234,
          8.300069808959961,
          8.400070190429688,
          8.500070571899414,
          8.60007095336914,
          8.700071334838867,
          8.800071716308594,
          8.90007209777832,
          9.000072479248047,
          9.100072860717773,
          9.2000732421875,
          9.300073623657227,
          9.400074005126953,
          9.50007438659668,
          9.600074768066406,
          9.700075149536133,
          9.80007553100586,
          9.900075912475586
         ],
         "y": [
          0.6766763925552368,
          0.7041513919830322,
          0.7324488162994385,
          0.7615787386894226,
          0.7915505170822144,
          0.8223729133605957,
          0.854053795337677,
          0.886600136756897,
          0.9200188517570496,
          0.9543156623840332,
          0.9894949197769165,
          1.0255606174468994,
          1.0625158548355103,
          1.1003625392913818,
          1.139101505279541,
          1.1787327527999878,
          1.2192548513412476,
          1.2606658935546875,
          1.302961826324463,
          1.346138596534729,
          1.3901898860931396,
          1.4351084232330322,
          1.4808859825134277,
          1.5275126695632935,
          1.5749770402908325,
          1.6232669353485107,
          1.6723682880401611,
          1.7222660779953003,
          1.772943139076233,
          1.8243815898895264,
          1.8765615224838257,
          1.92946195602417,
          1.9830602407455444,
          2.03733229637146,
          2.092252731323242,
          2.147794008255005,
          2.2039284706115723,
          2.260625123977661,
          2.3178534507751465,
          2.375579833984375,
          2.433770179748535,
          2.4923887252807617,
          2.551398515701294,
          2.6107606887817383,
          2.670435905456543,
          2.7303824424743652,
          2.790558338165283,
          2.8509199619293213,
          2.9114222526550293,
          2.972019672393799,
          3.0326650142669678,
          3.0933098793029785,
          3.1539061069488525,
          3.2144033908843994,
          3.2747504711151123,
          3.3348965644836426,
          3.394789218902588,
          3.4543752670288086,
          3.513601779937744,
          3.572413921356201,
          3.63075852394104,
          3.688579797744751,
          3.745823383331299,
          3.802434206008911,
          3.8583569526672363,
          3.9135360717773438,
          3.9679172039031982,
          4.021444797515869,
          4.0740647315979,
          4.125722885131836,
          4.176364421844482,
          4.2259368896484375,
          4.274388313293457,
          4.3216657638549805,
          4.367718696594238,
          4.412497520446777,
          4.455951690673828,
          4.498034954071045,
          4.538699626922607,
          4.577899932861328,
          4.615592956542969,
          4.651734828948975,
          4.686285018920898,
          4.719203948974609,
          4.750452995300293,
          4.779996395111084,
          4.807800769805908,
          4.833832263946533,
          4.858061790466309,
          4.880459785461426,
          4.901000022888184,
          4.919658660888672,
          4.936413288116455,
          4.951244354248047,
          4.964133262634277,
          4.9750657081604,
          4.9840288162231445,
          4.991010665893555,
          4.996003150939941,
          4.999000549316406,
          5.0,
          4.998999118804932,
          4.995999813079834,
          4.991005897521973,
          4.98402214050293,
          4.975058555603027,
          4.96412467956543,
          4.951233386993408,
          4.9364013671875,
          4.919645309448242,
          4.900985240936279,
          4.880443096160889,
          4.858043670654297,
          4.833813190460205,
          4.8077802658081055,
          4.779974937438965,
          4.750429630279541,
          4.719179153442383,
          4.6862592697143555,
          4.651708126068115,
          4.615564823150635,
          4.577870845794678,
          4.538669109344482,
          4.4980034828186035,
          4.45591926574707,
          4.412463188171387,
          4.367684364318848,
          4.321630001068115,
          4.274351596832275,
          4.225899696350098,
          4.176326274871826,
          4.125683784484863,
          4.0740251541137695,
          4.021404266357422,
          3.9678761959075928,
          3.913494348526001,
          3.8583145141601562,
          3.802391290664673,
          3.7457799911499023,
          3.6885359287261963,
          3.630714178085327,
          3.57236909866333,
          3.513556718826294,
          3.4543299674987793,
          3.3947439193725586,
          3.334851026535034,
          3.2747044563293457,
          3.2143571376800537,
          3.153860092163086,
          3.093263864517212,
          3.032618761062622,
          2.971973419189453,
          2.9113759994506836,
          2.8508737087249756,
          2.7905125617980957,
          2.7303364276885986,
          2.6703903675079346,
          2.610714912414551,
          2.5513532161712646,
          2.4923439025878906,
          2.433725595474243,
          2.375535488128662,
          2.317809820175171,
          2.2605819702148438,
          2.203885555267334,
          2.1477513313293457,
          2.0922107696533203,
          2.037290573120117,
          1.9830191135406494,
          1.929421305656433,
          1.876521348953247,
          1.8243420124053955,
          1.7729041576385498,
          1.7222278118133545,
          1.6723308563232422,
          1.6232298612594604,
          1.57494056224823,
          1.5274765491485596,
          1.4808506965637207,
          1.435073733329773,
          1.3901557922363281,
          1.3461052179336548,
          1.302929162979126,
          1.260633945465088,
          1.2192236185073853,
          1.1787021160125732,
          1.1390714645385742,
          1.1003332138061523,
          1.062487244606018,
          1.0255327224731445,
          0.9894676208496094,
          0.9542891383171082,
          0.9199931621551514,
          0.8865750432014465,
          0.8540291786193848,
          0.8223491311073303,
          0.7915273308753967,
          0.7615561485290527,
          0.7324269413948059,
          0.7041300535202026
         ],
         "type": "scatter",
         "uid": "6a8d2418-b55b-4489-9651-4978a4240756"
        }
       ],
       "layout": {
        "template": {
         "data": {
          "barpolar": [
           {
            "marker": {
             "line": {
              "color": "#E5ECF6",
              "width": 0.5
             },
             "pattern": {
              "fillmode": "overlay",
              "size": 10,
              "solidity": 0.2
             }
            },
            "type": "barpolar"
           }
          ],
          "bar": [
           {
            "error_x": {
             "color": "#2a3f5f"
            },
            "error_y": {
             "color": "#2a3f5f"
            },
            "marker": {
             "line": {
              "color": "#E5ECF6",
              "width": 0.5
             },
             "pattern": {
              "fillmode": "overlay",
              "size": 10,
              "solidity": 0.2
             }
            },
            "type": "bar"
           }
          ],
          "carpet": [
           {
            "aaxis": {
             "endlinecolor": "#2a3f5f",
             "gridcolor": "white",
             "linecolor": "white",
             "minorgridcolor": "white",
             "startlinecolor": "#2a3f5f"
            },
            "baxis": {
             "endlinecolor": "#2a3f5f",
             "gridcolor": "white",
             "linecolor": "white",
             "minorgridcolor": "white",
             "startlinecolor": "#2a3f5f"
            },
            "type": "carpet"
           }
          ],
          "choropleth": [
           {
            "colorbar": {
             "outlinewidth": 0,
             "ticks": ""
            },
            "type": "choropleth"
           }
          ],
          "contourcarpet": [
           {
            "colorbar": {
             "outlinewidth": 0,
             "ticks": ""
            },
            "type": "contourcarpet"
           }
          ],
          "contour": [
           {
            "colorbar": {
             "outlinewidth": 0,
             "ticks": ""
            },
            "colorscale": [
             [
              0.0,
              "#0d0887"
             ],
             [
              0.1111111111111111,
              "#46039f"
             ],
             [
              0.2222222222222222,
              "#7201a8"
             ],
             [
              0.3333333333333333,
              "#9c179e"
             ],
             [
              0.4444444444444444,
              "#bd3786"
             ],
             [
              0.5555555555555556,
              "#d8576b"
             ],
             [
              0.6666666666666666,
              "#ed7953"
             ],
             [
              0.7777777777777778,
              "#fb9f3a"
             ],
             [
              0.8888888888888888,
              "#fdca26"
             ],
             [
              1.0,
              "#f0f921"
             ]
            ],
            "type": "contour"
           }
          ],
          "heatmapgl": [
           {
            "colorbar": {
             "outlinewidth": 0,
             "ticks": ""
            },
            "colorscale": [
             [
              0.0,
              "#0d0887"
             ],
             [
              0.1111111111111111,
              "#46039f"
             ],
             [
              0.2222222222222222,
              "#7201a8"
             ],
             [
              0.3333333333333333,
              "#9c179e"
             ],
             [
              0.4444444444444444,
              "#bd3786"
             ],
             [
              0.5555555555555556,
              "#d8576b"
             ],
             [
              0.6666666666666666,
              "#ed7953"
             ],
             [
              0.7777777777777778,
              "#fb9f3a"
             ],
             [
              0.8888888888888888,
              "#fdca26"
             ],
             [
              1.0,
              "#f0f921"
             ]
            ],
            "type": "heatmapgl"
           }
          ],
          "heatmap": [
           {
            "colorbar": {
             "outlinewidth": 0,
             "ticks": ""
            },
            "colorscale": [
             [
              0.0,
              "#0d0887"
             ],
             [
              0.1111111111111111,
              "#46039f"
             ],
             [
              0.2222222222222222,
              "#7201a8"
             ],
             [
              0.3333333333333333,
              "#9c179e"
             ],
             [
              0.4444444444444444,
              "#bd3786"
             ],
             [
              0.5555555555555556,
              "#d8576b"
             ],
             [
              0.6666666666666666,
              "#ed7953"
             ],
             [
              0.7777777777777778,
              "#fb9f3a"
             ],
             [
              0.8888888888888888,
              "#fdca26"
             ],
             [
              1.0,
              "#f0f921"
             ]
            ],
            "type": "heatmap"
           }
          ],
          "histogram2dcontour": [
           {
            "colorbar": {
             "outlinewidth": 0,
             "ticks": ""
            },
            "colorscale": [
             [
              0.0,
              "#0d0887"
             ],
             [
              0.1111111111111111,
              "#46039f"
             ],
             [
              0.2222222222222222,
              "#7201a8"
             ],
             [
              0.3333333333333333,
              "#9c179e"
             ],
             [
              0.4444444444444444,
              "#bd3786"
             ],
             [
              0.5555555555555556,
              "#d8576b"
             ],
             [
              0.6666666666666666,
              "#ed7953"
             ],
             [
              0.7777777777777778,
              "#fb9f3a"
             ],
             [
              0.8888888888888888,
              "#fdca26"
             ],
             [
              1.0,
              "#f0f921"
             ]
            ],
            "type": "histogram2dcontour"
           }
          ],
          "histogram2d": [
           {
            "colorbar": {
             "outlinewidth": 0,
             "ticks": ""
            },
            "colorscale": [
             [
              0.0,
              "#0d0887"
             ],
             [
              0.1111111111111111,
              "#46039f"
             ],
             [
              0.2222222222222222,
              "#7201a8"
             ],
             [
              0.3333333333333333,
              "#9c179e"
             ],
             [
              0.4444444444444444,
              "#bd3786"
             ],
             [
              0.5555555555555556,
              "#d8576b"
             ],
             [
              0.6666666666666666,
              "#ed7953"
             ],
             [
              0.7777777777777778,
              "#fb9f3a"
             ],
             [
              0.8888888888888888,
              "#fdca26"
             ],
             [
              1.0,
              "#f0f921"
             ]
            ],
            "type": "histogram2d"
           }
          ],
          "histogram": [
           {
            "marker": {
             "pattern": {
              "fillmode": "overlay",
              "size": 10,
              "solidity": 0.2
             }
            },
            "type": "histogram"
           }
          ],
          "mesh3d": [
           {
            "colorbar": {
             "outlinewidth": 0,
             "ticks": ""
            },
            "type": "mesh3d"
           }
          ],
          "parcoords": [
           {
            "line": {
             "colorbar": {
              "outlinewidth": 0,
              "ticks": ""
             }
            },
            "type": "parcoords"
           }
          ],
          "pie": [
           {
            "automargin": true,
            "type": "pie"
           }
          ],
          "scatter3d": [
           {
            "line": {
             "colorbar": {
              "outlinewidth": 0,
              "ticks": ""
             }
            },
            "marker": {
             "colorbar": {
              "outlinewidth": 0,
              "ticks": ""
             }
            },
            "type": "scatter3d"
           }
          ],
          "scattercarpet": [
           {
            "marker": {
             "colorbar": {
              "outlinewidth": 0,
              "ticks": ""
             }
            },
            "type": "scattercarpet"
           }
          ],
          "scattergeo": [
           {
            "marker": {
             "colorbar": {
              "outlinewidth": 0,
              "ticks": ""
             }
            },
            "type": "scattergeo"
           }
          ],
          "scattergl": [
           {
            "marker": {
             "colorbar": {
              "outlinewidth": 0,
              "ticks": ""
             }
            },
            "type": "scattergl"
           }
          ],
          "scattermapbox": [
           {
            "marker": {
             "colorbar": {
              "outlinewidth": 0,
              "ticks": ""
             }
            },
            "type": "scattermapbox"
           }
          ],
          "scatterpolargl": [
           {
            "marker": {
             "colorbar": {
              "outlinewidth": 0,
              "ticks": ""
             }
            },
            "type": "scatterpolargl"
           }
          ],
          "scatterpolar": [
           {
            "marker": {
             "colorbar": {
              "outlinewidth": 0,
              "ticks": ""
             }
            },
            "type": "scatterpolar"
           }
          ],
          "scatter": [
           {
            "fillpattern": {
             "fillmode": "overlay",
             "size": 10,
             "solidity": 0.2
            },
            "type": "scatter"
           }
          ],
          "scatterternary": [
           {
            "marker": {
             "colorbar": {
              "outlinewidth": 0,
              "ticks": ""
             }
            },
            "type": "scatterternary"
           }
          ],
          "surface": [
           {
            "colorbar": {
             "outlinewidth": 0,
             "ticks": ""
            },
            "colorscale": [
             [
              0.0,
              "#0d0887"
             ],
             [
              0.1111111111111111,
              "#46039f"
             ],
             [
              0.2222222222222222,
              "#7201a8"
             ],
             [
              0.3333333333333333,
              "#9c179e"
             ],
             [
              0.4444444444444444,
              "#bd3786"
             ],
             [
              0.5555555555555556,
              "#d8576b"
             ],
             [
              0.6666666666666666,
              "#ed7953"
             ],
             [
              0.7777777777777778,
              "#fb9f3a"
             ],
             [
              0.8888888888888888,
              "#fdca26"
             ],
             [
              1.0,
              "#f0f921"
             ]
            ],
            "type": "surface"
           }
          ],
          "table": [
           {
            "cells": {
             "fill": {
              "color": "#EBF0F8"
             },
             "line": {
              "color": "white"
             }
            },
            "header": {
             "fill": {
              "color": "#C8D4E3"
             },
             "line": {
              "color": "white"
             }
            },
            "type": "table"
           }
          ]
         },
         "layout": {
          "annotationdefaults": {
           "arrowcolor": "#2a3f5f",
           "arrowhead": 0,
           "arrowwidth": 1
          },
          "autotypenumbers": "strict",
          "coloraxis": {
           "colorbar": {
            "outlinewidth": 0,
            "ticks": ""
           }
          },
          "colorscale": {
           "diverging": [
            [
             0,
             "#8e0152"
            ],
            [
             0.1,
             "#c51b7d"
            ],
            [
             0.2,
             "#de77ae"
            ],
            [
             0.3,
             "#f1b6da"
            ],
            [
             0.4,
             "#fde0ef"
            ],
            [
             0.5,
             "#f7f7f7"
            ],
            [
             0.6,
             "#e6f5d0"
            ],
            [
             0.7,
             "#b8e186"
            ],
            [
             0.8,
             "#7fbc41"
            ],
            [
             0.9,
             "#4d9221"
            ],
            [
             1,
             "#276419"
            ]
           ],
           "sequential": [
            [
             0.0,
             "#0d0887"
            ],
            [
             0.1111111111111111,
             "#46039f"
            ],
            [
             0.2222222222222222,
             "#7201a8"
            ],
            [
             0.3333333333333333,
             "#9c179e"
            ],
            [
             0.4444444444444444,
             "#bd3786"
            ],
            [
             0.5555555555555556,
             "#d8576b"
            ],
            [
             0.6666666666666666,
             "#ed7953"
            ],
            [
             0.7777777777777778,
             "#fb9f3a"
            ],
            [
             0.8888888888888888,
             "#fdca26"
            ],
            [
             1.0,
             "#f0f921"
            ]
           ],
           "sequentialminus": [
            [
             0.0,
             "#0d0887"
            ],
            [
             0.1111111111111111,
             "#46039f"
            ],
            [
             0.2222222222222222,
             "#7201a8"
            ],
            [
             0.3333333333333333,
             "#9c179e"
            ],
            [
             0.4444444444444444,
             "#bd3786"
            ],
            [
             0.5555555555555556,
             "#d8576b"
            ],
            [
             0.6666666666666666,
             "#ed7953"
            ],
            [
             0.7777777777777778,
             "#fb9f3a"
            ],
            [
             0.8888888888888888,
             "#fdca26"
            ],
            [
             1.0,
             "#f0f921"
            ]
           ]
          },
          "colorway": [
           "#636efa",
           "#EF553B",
           "#00cc96",
           "#ab63fa",
           "#FFA15A",
           "#19d3f3",
           "#FF6692",
           "#B6E880",
           "#FF97FF",
           "#FECB52"
          ],
          "font": {
           "color": "#2a3f5f"
          },
          "geo": {
           "bgcolor": "white",
           "lakecolor": "white",
           "landcolor": "#E5ECF6",
           "showlakes": true,
           "showland": true,
           "subunitcolor": "white"
          },
          "hoverlabel": {
           "align": "left"
          },
          "hovermode": "closest",
          "mapbox": {
           "style": "light"
          },
          "paper_bgcolor": "white",
          "plot_bgcolor": "#E5ECF6",
          "polar": {
           "angularaxis": {
            "gridcolor": "white",
            "linecolor": "white",
            "ticks": ""
           },
           "bgcolor": "#E5ECF6",
           "radialaxis": {
            "gridcolor": "white",
            "linecolor": "white",
            "ticks": ""
           }
          },
          "scene": {
           "xaxis": {
            "backgroundcolor": "#E5ECF6",
            "gridcolor": "white",
            "gridwidth": 2,
            "linecolor": "white",
            "showbackground": true,
            "ticks": "",
            "zerolinecolor": "white"
           },
           "yaxis": {
            "backgroundcolor": "#E5ECF6",
            "gridcolor": "white",
            "gridwidth": 2,
            "linecolor": "white",
            "showbackground": true,
            "ticks": "",
            "zerolinecolor": "white"
           },
           "zaxis": {
            "backgroundcolor": "#E5ECF6",
            "gridcolor": "white",
            "gridwidth": 2,
            "linecolor": "white",
            "showbackground": true,
            "ticks": "",
            "zerolinecolor": "white"
           }
          },
          "shapedefaults": {
           "line": {
            "color": "#2a3f5f"
           }
          },
          "ternary": {
           "aaxis": {
            "gridcolor": "white",
            "linecolor": "white",
            "ticks": ""
           },
           "baxis": {
            "gridcolor": "white",
            "linecolor": "white",
            "ticks": ""
           },
           "bgcolor": "#E5ECF6",
           "caxis": {
            "gridcolor": "white",
            "linecolor": "white",
            "ticks": ""
           }
          },
          "title": {
           "x": 0.05
          },
          "xaxis": {
           "automargin": true,
           "gridcolor": "white",
           "linecolor": "white",
           "ticks": "",
           "title": {
            "standoff": 15
           },
           "zerolinecolor": "white",
           "zerolinewidth": 2
          },
          "yaxis": {
           "automargin": true,
           "gridcolor": "white",
           "linecolor": "white",
           "ticks": "",
           "title": {
            "standoff": 15
           },
           "zerolinecolor": "white",
           "zerolinewidth": 2
          }
         }
        },
        "width": 800,
        "height": 600,
        "autosize": false,
        "plot_bgcolor": "rgba(0,0,0,0)",
        "title": {
         "text": "Squared exponential kernel",
         "x": 0.5,
         "xanchor": "center"
        },
        "legend": {
         "yanchor": "top",
         "y": 0.9,
         "xanchor": "right",
         "x": 0.95
        },
        "xaxis": {
         "title": {
          "text": "input values"
         },
         "showline": true,
         "linewidth": 1,
         "linecolor": "black"
        },
        "yaxis": {
         "title": {
          "text": "output values"
         },
         "showline": true,
         "linewidth": 1,
         "linecolor": "black"
        }
       },
       "config": {
        "plotlyServerURL": "https://plot.ly"
       }
      },
      "text/html": "<div>                            <div id=\"d2928adc-cf71-421b-9c32-3261d7d06e5a\" class=\"plotly-graph-div\" style=\"height:600px; width:800px;\"></div>            <script type=\"text/javascript\">                require([\"plotly\"], function(Plotly) {                    window.PLOTLYENV=window.PLOTLYENV || {};                                    if (document.getElementById(\"d2928adc-cf71-421b-9c32-3261d7d06e5a\")) {                    Plotly.newPlot(                        \"d2928adc-cf71-421b-9c32-3261d7d06e5a\",                        [{\"line\":{\"color\":\"blue\",\"width\":2},\"name\":\"Predicted function\",\"showlegend\":true,\"visible\":true,\"x\":[-10.0,-9.899999618530273,-9.799999237060547,-9.69999885559082,-9.599998474121094,-9.499998092651367,-9.39999771118164,-9.299997329711914,-9.199996948242188,-9.099996566772461,-8.999996185302734,-8.899995803833008,-8.799995422363281,-8.699995040893555,-8.599994659423828,-8.499994277954102,-8.399993896484375,-8.299993515014648,-8.199993133544922,-8.099992752075195,-7.999992370605469,-7.899991989135742,-7.799991607666016,-7.699991226196289,-7.5999908447265625,-7.499990463256836,-7.399990081787109,-7.299989700317383,-7.199989318847656,-7.09998893737793,-6.999988555908203,-6.899988174438477,-6.79998779296875,-6.699987411499023,-6.599987030029297,-6.49998664855957,-6.399986267089844,-6.299985885620117,-6.199985504150391,-6.099985122680664,-5.9999847412109375,-5.899984359741211,-5.799983978271484,-5.699983596801758,-5.599983215332031,-5.499982833862305,-5.399982452392578,-5.299982070922852,-5.199981689453125,-5.099981307983398,-4.999980926513672,-4.899980545043945,-4.799980163574219,-4.699979782104492,-4.599979400634766,-4.499979019165039,-4.3999786376953125,-4.299978256225586,-4.199977874755859,-4.099977493286133,-3.9999771118164062,-3.8999767303466797,-3.799976348876953,-3.6999759674072266,-3.5999755859375,-3.4999752044677734,-3.399974822998047,-3.2999744415283203,-3.1999740600585938,-3.099973678588867,-2.9999732971191406,-2.899972915649414,-2.7999725341796875,-2.699972152709961,-2.5999717712402344,-2.499971389770508,-2.3999710083007812,-2.2999706268310547,-2.199970245361328,-2.0999698638916016,-1.999969482421875,-1.8999691009521484,-1.7999687194824219,-1.6999683380126953,-1.5999679565429688,-1.4999675750732422,-1.3999671936035156,-1.299966812133789,-1.1999664306640625,-1.099966049194336,-0.9999656677246094,-0.8999652862548828,-0.7999649047851562,-0.6999645233154297,-0.5999641418457031,-0.49996376037597656,-0.39996337890625,-0.29996299743652344,-0.19996261596679688,-0.09996223449707031,3.814697265625e-05,0.10003852844238281,0.20003890991210938,0.30003929138183594,0.4000396728515625,0.5000400543212891,0.6000404357910156,0.7000408172607422,0.8000411987304688,0.9000415802001953,1.0000419616699219,1.1000423431396484,1.200042724609375,1.3000431060791016,1.4000434875488281,1.5000438690185547,1.6000442504882812,1.7000446319580078,1.8000450134277344,1.900045394897461,2.0000457763671875,2.100046157836914,2.2000465393066406,2.300046920776367,2.4000473022460938,2.5000476837158203,2.600048065185547,2.7000484466552734,2.800048828125,2.9000492095947266,3.000049591064453,3.1000499725341797,3.2000503540039062,3.300050735473633,3.4000511169433594,3.500051498413086,3.6000518798828125,3.700052261352539,3.8000526428222656,3.900053024291992,4.000053405761719,4.100053787231445,4.200054168701172,4.300054550170898,4.400054931640625,4.500055313110352,4.600055694580078,4.700056076049805,4.800056457519531,4.900056838989258,5.000057220458984,5.100057601928711,5.2000579833984375,5.300058364868164,5.400058746337891,5.500059127807617,5.600059509277344,5.70005989074707,5.800060272216797,5.900060653686523,6.00006103515625,6.100061416625977,6.200061798095703,6.30006217956543,6.400062561035156,6.500062942504883,6.600063323974609,6.700063705444336,6.8000640869140625,6.900064468383789,7.000064849853516,7.100065231323242,7.200065612792969,7.300065994262695,7.400066375732422,7.500066757202148,7.600067138671875,7.700067520141602,7.800067901611328,7.900068283081055,8.000068664550781,8.100069046020508,8.200069427490234,8.300069808959961,8.400070190429688,8.500070571899414,8.60007095336914,8.700071334838867,8.800071716308594,8.90007209777832,9.000072479248047,9.100072860717773,9.2000732421875,9.300073623657227,9.400074005126953,9.50007438659668,9.600074768066406,9.700075149536133,9.80007553100586,9.900075912475586],\"y\":[0.6766763925552368,0.7041513919830322,0.7324488162994385,0.7615787386894226,0.7915505170822144,0.8223729133605957,0.854053795337677,0.886600136756897,0.9200188517570496,0.9543156623840332,0.9894949197769165,1.0255606174468994,1.0625158548355103,1.1003625392913818,1.139101505279541,1.1787327527999878,1.2192548513412476,1.2606658935546875,1.302961826324463,1.346138596534729,1.3901898860931396,1.4351084232330322,1.4808859825134277,1.5275126695632935,1.5749770402908325,1.6232669353485107,1.6723682880401611,1.7222660779953003,1.772943139076233,1.8243815898895264,1.8765615224838257,1.92946195602417,1.9830602407455444,2.03733229637146,2.092252731323242,2.147794008255005,2.2039284706115723,2.260625123977661,2.3178534507751465,2.375579833984375,2.433770179748535,2.4923887252807617,2.551398515701294,2.6107606887817383,2.670435905456543,2.7303824424743652,2.790558338165283,2.8509199619293213,2.9114222526550293,2.972019672393799,3.0326650142669678,3.0933098793029785,3.1539061069488525,3.2144033908843994,3.2747504711151123,3.3348965644836426,3.394789218902588,3.4543752670288086,3.513601779937744,3.572413921356201,3.63075852394104,3.688579797744751,3.745823383331299,3.802434206008911,3.8583569526672363,3.9135360717773438,3.9679172039031982,4.021444797515869,4.0740647315979,4.125722885131836,4.176364421844482,4.2259368896484375,4.274388313293457,4.3216657638549805,4.367718696594238,4.412497520446777,4.455951690673828,4.498034954071045,4.538699626922607,4.577899932861328,4.615592956542969,4.651734828948975,4.686285018920898,4.719203948974609,4.750452995300293,4.779996395111084,4.807800769805908,4.833832263946533,4.858061790466309,4.880459785461426,4.901000022888184,4.919658660888672,4.936413288116455,4.951244354248047,4.964133262634277,4.9750657081604,4.9840288162231445,4.991010665893555,4.996003150939941,4.999000549316406,5.0,4.998999118804932,4.995999813079834,4.991005897521973,4.98402214050293,4.975058555603027,4.96412467956543,4.951233386993408,4.9364013671875,4.919645309448242,4.900985240936279,4.880443096160889,4.858043670654297,4.833813190460205,4.8077802658081055,4.779974937438965,4.750429630279541,4.719179153442383,4.6862592697143555,4.651708126068115,4.615564823150635,4.577870845794678,4.538669109344482,4.4980034828186035,4.45591926574707,4.412463188171387,4.367684364318848,4.321630001068115,4.274351596832275,4.225899696350098,4.176326274871826,4.125683784484863,4.0740251541137695,4.021404266357422,3.9678761959075928,3.913494348526001,3.8583145141601562,3.802391290664673,3.7457799911499023,3.6885359287261963,3.630714178085327,3.57236909866333,3.513556718826294,3.4543299674987793,3.3947439193725586,3.334851026535034,3.2747044563293457,3.2143571376800537,3.153860092163086,3.093263864517212,3.032618761062622,2.971973419189453,2.9113759994506836,2.8508737087249756,2.7905125617980957,2.7303364276885986,2.6703903675079346,2.610714912414551,2.5513532161712646,2.4923439025878906,2.433725595474243,2.375535488128662,2.317809820175171,2.2605819702148438,2.203885555267334,2.1477513313293457,2.0922107696533203,2.037290573120117,1.9830191135406494,1.929421305656433,1.876521348953247,1.8243420124053955,1.7729041576385498,1.7222278118133545,1.6723308563232422,1.6232298612594604,1.57494056224823,1.5274765491485596,1.4808506965637207,1.435073733329773,1.3901557922363281,1.3461052179336548,1.302929162979126,1.260633945465088,1.2192236185073853,1.1787021160125732,1.1390714645385742,1.1003332138061523,1.062487244606018,1.0255327224731445,0.9894676208496094,0.9542891383171082,0.9199931621551514,0.8865750432014465,0.8540291786193848,0.8223491311073303,0.7915273308753967,0.7615561485290527,0.7324269413948059,0.7041300535202026],\"type\":\"scatter\",\"uid\":\"6a8d2418-b55b-4489-9651-4978a4240756\"}],                        {\"template\":{\"data\":{\"barpolar\":[{\"marker\":{\"line\":{\"color\":\"#E5ECF6\",\"width\":0.5},\"pattern\":{\"fillmode\":\"overlay\",\"size\":10,\"solidity\":0.2}},\"type\":\"barpolar\"}],\"bar\":[{\"error_x\":{\"color\":\"#2a3f5f\"},\"error_y\":{\"color\":\"#2a3f5f\"},\"marker\":{\"line\":{\"color\":\"#E5ECF6\",\"width\":0.5},\"pattern\":{\"fillmode\":\"overlay\",\"size\":10,\"solidity\":0.2}},\"type\":\"bar\"}],\"carpet\":[{\"aaxis\":{\"endlinecolor\":\"#2a3f5f\",\"gridcolor\":\"white\",\"linecolor\":\"white\",\"minorgridcolor\":\"white\",\"startlinecolor\":\"#2a3f5f\"},\"baxis\":{\"endlinecolor\":\"#2a3f5f\",\"gridcolor\":\"white\",\"linecolor\":\"white\",\"minorgridcolor\":\"white\",\"startlinecolor\":\"#2a3f5f\"},\"type\":\"carpet\"}],\"choropleth\":[{\"colorbar\":{\"outlinewidth\":0,\"ticks\":\"\"},\"type\":\"choropleth\"}],\"contourcarpet\":[{\"colorbar\":{\"outlinewidth\":0,\"ticks\":\"\"},\"type\":\"contourcarpet\"}],\"contour\":[{\"colorbar\":{\"outlinewidth\":0,\"ticks\":\"\"},\"colorscale\":[[0.0,\"#0d0887\"],[0.1111111111111111,\"#46039f\"],[0.2222222222222222,\"#7201a8\"],[0.3333333333333333,\"#9c179e\"],[0.4444444444444444,\"#bd3786\"],[0.5555555555555556,\"#d8576b\"],[0.6666666666666666,\"#ed7953\"],[0.7777777777777778,\"#fb9f3a\"],[0.8888888888888888,\"#fdca26\"],[1.0,\"#f0f921\"]],\"type\":\"contour\"}],\"heatmapgl\":[{\"colorbar\":{\"outlinewidth\":0,\"ticks\":\"\"},\"colorscale\":[[0.0,\"#0d0887\"],[0.1111111111111111,\"#46039f\"],[0.2222222222222222,\"#7201a8\"],[0.3333333333333333,\"#9c179e\"],[0.4444444444444444,\"#bd3786\"],[0.5555555555555556,\"#d8576b\"],[0.6666666666666666,\"#ed7953\"],[0.7777777777777778,\"#fb9f3a\"],[0.8888888888888888,\"#fdca26\"],[1.0,\"#f0f921\"]],\"type\":\"heatmapgl\"}],\"heatmap\":[{\"colorbar\":{\"outlinewidth\":0,\"ticks\":\"\"},\"colorscale\":[[0.0,\"#0d0887\"],[0.1111111111111111,\"#46039f\"],[0.2222222222222222,\"#7201a8\"],[0.3333333333333333,\"#9c179e\"],[0.4444444444444444,\"#bd3786\"],[0.5555555555555556,\"#d8576b\"],[0.6666666666666666,\"#ed7953\"],[0.7777777777777778,\"#fb9f3a\"],[0.8888888888888888,\"#fdca26\"],[1.0,\"#f0f921\"]],\"type\":\"heatmap\"}],\"histogram2dcontour\":[{\"colorbar\":{\"outlinewidth\":0,\"ticks\":\"\"},\"colorscale\":[[0.0,\"#0d0887\"],[0.1111111111111111,\"#46039f\"],[0.2222222222222222,\"#7201a8\"],[0.3333333333333333,\"#9c179e\"],[0.4444444444444444,\"#bd3786\"],[0.5555555555555556,\"#d8576b\"],[0.6666666666666666,\"#ed7953\"],[0.7777777777777778,\"#fb9f3a\"],[0.8888888888888888,\"#fdca26\"],[1.0,\"#f0f921\"]],\"type\":\"histogram2dcontour\"}],\"histogram2d\":[{\"colorbar\":{\"outlinewidth\":0,\"ticks\":\"\"},\"colorscale\":[[0.0,\"#0d0887\"],[0.1111111111111111,\"#46039f\"],[0.2222222222222222,\"#7201a8\"],[0.3333333333333333,\"#9c179e\"],[0.4444444444444444,\"#bd3786\"],[0.5555555555555556,\"#d8576b\"],[0.6666666666666666,\"#ed7953\"],[0.7777777777777778,\"#fb9f3a\"],[0.8888888888888888,\"#fdca26\"],[1.0,\"#f0f921\"]],\"type\":\"histogram2d\"}],\"histogram\":[{\"marker\":{\"pattern\":{\"fillmode\":\"overlay\",\"size\":10,\"solidity\":0.2}},\"type\":\"histogram\"}],\"mesh3d\":[{\"colorbar\":{\"outlinewidth\":0,\"ticks\":\"\"},\"type\":\"mesh3d\"}],\"parcoords\":[{\"line\":{\"colorbar\":{\"outlinewidth\":0,\"ticks\":\"\"}},\"type\":\"parcoords\"}],\"pie\":[{\"automargin\":true,\"type\":\"pie\"}],\"scatter3d\":[{\"line\":{\"colorbar\":{\"outlinewidth\":0,\"ticks\":\"\"}},\"marker\":{\"colorbar\":{\"outlinewidth\":0,\"ticks\":\"\"}},\"type\":\"scatter3d\"}],\"scattercarpet\":[{\"marker\":{\"colorbar\":{\"outlinewidth\":0,\"ticks\":\"\"}},\"type\":\"scattercarpet\"}],\"scattergeo\":[{\"marker\":{\"colorbar\":{\"outlinewidth\":0,\"ticks\":\"\"}},\"type\":\"scattergeo\"}],\"scattergl\":[{\"marker\":{\"colorbar\":{\"outlinewidth\":0,\"ticks\":\"\"}},\"type\":\"scattergl\"}],\"scattermapbox\":[{\"marker\":{\"colorbar\":{\"outlinewidth\":0,\"ticks\":\"\"}},\"type\":\"scattermapbox\"}],\"scatterpolargl\":[{\"marker\":{\"colorbar\":{\"outlinewidth\":0,\"ticks\":\"\"}},\"type\":\"scatterpolargl\"}],\"scatterpolar\":[{\"marker\":{\"colorbar\":{\"outlinewidth\":0,\"ticks\":\"\"}},\"type\":\"scatterpolar\"}],\"scatter\":[{\"fillpattern\":{\"fillmode\":\"overlay\",\"size\":10,\"solidity\":0.2},\"type\":\"scatter\"}],\"scatterternary\":[{\"marker\":{\"colorbar\":{\"outlinewidth\":0,\"ticks\":\"\"}},\"type\":\"scatterternary\"}],\"surface\":[{\"colorbar\":{\"outlinewidth\":0,\"ticks\":\"\"},\"colorscale\":[[0.0,\"#0d0887\"],[0.1111111111111111,\"#46039f\"],[0.2222222222222222,\"#7201a8\"],[0.3333333333333333,\"#9c179e\"],[0.4444444444444444,\"#bd3786\"],[0.5555555555555556,\"#d8576b\"],[0.6666666666666666,\"#ed7953\"],[0.7777777777777778,\"#fb9f3a\"],[0.8888888888888888,\"#fdca26\"],[1.0,\"#f0f921\"]],\"type\":\"surface\"}],\"table\":[{\"cells\":{\"fill\":{\"color\":\"#EBF0F8\"},\"line\":{\"color\":\"white\"}},\"header\":{\"fill\":{\"color\":\"#C8D4E3\"},\"line\":{\"color\":\"white\"}},\"type\":\"table\"}]},\"layout\":{\"annotationdefaults\":{\"arrowcolor\":\"#2a3f5f\",\"arrowhead\":0,\"arrowwidth\":1},\"autotypenumbers\":\"strict\",\"coloraxis\":{\"colorbar\":{\"outlinewidth\":0,\"ticks\":\"\"}},\"colorscale\":{\"diverging\":[[0,\"#8e0152\"],[0.1,\"#c51b7d\"],[0.2,\"#de77ae\"],[0.3,\"#f1b6da\"],[0.4,\"#fde0ef\"],[0.5,\"#f7f7f7\"],[0.6,\"#e6f5d0\"],[0.7,\"#b8e186\"],[0.8,\"#7fbc41\"],[0.9,\"#4d9221\"],[1,\"#276419\"]],\"sequential\":[[0.0,\"#0d0887\"],[0.1111111111111111,\"#46039f\"],[0.2222222222222222,\"#7201a8\"],[0.3333333333333333,\"#9c179e\"],[0.4444444444444444,\"#bd3786\"],[0.5555555555555556,\"#d8576b\"],[0.6666666666666666,\"#ed7953\"],[0.7777777777777778,\"#fb9f3a\"],[0.8888888888888888,\"#fdca26\"],[1.0,\"#f0f921\"]],\"sequentialminus\":[[0.0,\"#0d0887\"],[0.1111111111111111,\"#46039f\"],[0.2222222222222222,\"#7201a8\"],[0.3333333333333333,\"#9c179e\"],[0.4444444444444444,\"#bd3786\"],[0.5555555555555556,\"#d8576b\"],[0.6666666666666666,\"#ed7953\"],[0.7777777777777778,\"#fb9f3a\"],[0.8888888888888888,\"#fdca26\"],[1.0,\"#f0f921\"]]},\"colorway\":[\"#636efa\",\"#EF553B\",\"#00cc96\",\"#ab63fa\",\"#FFA15A\",\"#19d3f3\",\"#FF6692\",\"#B6E880\",\"#FF97FF\",\"#FECB52\"],\"font\":{\"color\":\"#2a3f5f\"},\"geo\":{\"bgcolor\":\"white\",\"lakecolor\":\"white\",\"landcolor\":\"#E5ECF6\",\"showlakes\":true,\"showland\":true,\"subunitcolor\":\"white\"},\"hoverlabel\":{\"align\":\"left\"},\"hovermode\":\"closest\",\"mapbox\":{\"style\":\"light\"},\"paper_bgcolor\":\"white\",\"plot_bgcolor\":\"#E5ECF6\",\"polar\":{\"angularaxis\":{\"gridcolor\":\"white\",\"linecolor\":\"white\",\"ticks\":\"\"},\"bgcolor\":\"#E5ECF6\",\"radialaxis\":{\"gridcolor\":\"white\",\"linecolor\":\"white\",\"ticks\":\"\"}},\"scene\":{\"xaxis\":{\"backgroundcolor\":\"#E5ECF6\",\"gridcolor\":\"white\",\"gridwidth\":2,\"linecolor\":\"white\",\"showbackground\":true,\"ticks\":\"\",\"zerolinecolor\":\"white\"},\"yaxis\":{\"backgroundcolor\":\"#E5ECF6\",\"gridcolor\":\"white\",\"gridwidth\":2,\"linecolor\":\"white\",\"showbackground\":true,\"ticks\":\"\",\"zerolinecolor\":\"white\"},\"zaxis\":{\"backgroundcolor\":\"#E5ECF6\",\"gridcolor\":\"white\",\"gridwidth\":2,\"linecolor\":\"white\",\"showbackground\":true,\"ticks\":\"\",\"zerolinecolor\":\"white\"}},\"shapedefaults\":{\"line\":{\"color\":\"#2a3f5f\"}},\"ternary\":{\"aaxis\":{\"gridcolor\":\"white\",\"linecolor\":\"white\",\"ticks\":\"\"},\"baxis\":{\"gridcolor\":\"white\",\"linecolor\":\"white\",\"ticks\":\"\"},\"bgcolor\":\"#E5ECF6\",\"caxis\":{\"gridcolor\":\"white\",\"linecolor\":\"white\",\"ticks\":\"\"}},\"title\":{\"x\":0.05},\"xaxis\":{\"automargin\":true,\"gridcolor\":\"white\",\"linecolor\":\"white\",\"ticks\":\"\",\"title\":{\"standoff\":15},\"zerolinecolor\":\"white\",\"zerolinewidth\":2},\"yaxis\":{\"automargin\":true,\"gridcolor\":\"white\",\"linecolor\":\"white\",\"ticks\":\"\",\"title\":{\"standoff\":15},\"zerolinecolor\":\"white\",\"zerolinewidth\":2}}},\"width\":800,\"height\":600,\"autosize\":false,\"plot_bgcolor\":\"rgba(0,0,0,0)\",\"title\":{\"text\":\"Squared exponential kernel\",\"x\":0.5,\"xanchor\":\"center\"},\"legend\":{\"yanchor\":\"top\",\"y\":0.9,\"xanchor\":\"right\",\"x\":0.95},\"xaxis\":{\"title\":{\"text\":\"input values\"},\"showline\":true,\"linewidth\":1,\"linecolor\":\"black\"},\"yaxis\":{\"title\":{\"text\":\"output values\"},\"showline\":true,\"linewidth\":1,\"linecolor\":\"black\"}},                        {\"responsive\": true}                    ).then(function(){\n                            \nvar gd = document.getElementById('d2928adc-cf71-421b-9c32-3261d7d06e5a');\nvar x = new MutationObserver(function (mutations, observer) {{\n        var display = window.getComputedStyle(gd).display;\n        if (!display || display === 'none') {{\n            console.log([gd, 'removed!']);\n            Plotly.purge(gd);\n            observer.disconnect();\n        }}\n}});\n\n// Listen for the removal of the full notebook cells\nvar notebookContainer = gd.closest('#notebook-container');\nif (notebookContainer) {{\n    x.observe(notebookContainer, {childList: true});\n}}\n\n// Listen for the clearing of the current output cell\nvar outputEl = gd.closest('.output');\nif (outputEl) {{\n    x.observe(outputEl, {childList: true});\n}}\n\n                        })                };                });            </script>        </div>",
      "text/plain": "FigureWidget({\n    'data': [{'line': {'color': 'blue', 'width': 2},\n              'name': 'Predicted function',\n              'showlegend': True,\n              'type': 'scatter',\n              'uid': '6a8d2418-b55b-4489-9651-4978a4240756',\n              'visible': True,\n              'x': array([-1.0000000e+01, -9.8999996e+00, -9.7999992e+00, -9.6999989e+00,\n                          -9.5999985e+00, -9.4999981e+00, -9.3999977e+00, -9.2999973e+00,\n                          -9.1999969e+00, -9.0999966e+00, -8.9999962e+00, -8.8999958e+00,\n                          -8.7999954e+00, -8.6999950e+00, -8.5999947e+00, -8.4999943e+00,\n                          -8.3999939e+00, -8.2999935e+00, -8.1999931e+00, -8.0999928e+00,\n                          -7.9999924e+00, -7.8999920e+00, -7.7999916e+00, -7.6999912e+00,\n                          -7.5999908e+00, -7.4999905e+00, -7.3999901e+00, -7.2999897e+00,\n                          -7.1999893e+00, -7.0999889e+00, -6.9999886e+00, -6.8999882e+00,\n                          -6.7999878e+00, -6.6999874e+00, -6.5999870e+00, -6.4999866e+00,\n                          -6.3999863e+00, -6.2999859e+00, -6.1999855e+00, -6.0999851e+00,\n                          -5.9999847e+00, -5.8999844e+00, -5.7999840e+00, -5.6999836e+00,\n                          -5.5999832e+00, -5.4999828e+00, -5.3999825e+00, -5.2999821e+00,\n                          -5.1999817e+00, -5.0999813e+00, -4.9999809e+00, -4.8999805e+00,\n                          -4.7999802e+00, -4.6999798e+00, -4.5999794e+00, -4.4999790e+00,\n                          -4.3999786e+00, -4.2999783e+00, -4.1999779e+00, -4.0999775e+00,\n                          -3.9999771e+00, -3.8999767e+00, -3.7999763e+00, -3.6999760e+00,\n                          -3.5999756e+00, -3.4999752e+00, -3.3999748e+00, -3.2999744e+00,\n                          -3.1999741e+00, -3.0999737e+00, -2.9999733e+00, -2.8999729e+00,\n                          -2.7999725e+00, -2.6999722e+00, -2.5999718e+00, -2.4999714e+00,\n                          -2.3999710e+00, -2.2999706e+00, -2.1999702e+00, -2.0999699e+00,\n                          -1.9999695e+00, -1.8999691e+00, -1.7999687e+00, -1.6999683e+00,\n                          -1.5999680e+00, -1.4999676e+00, -1.3999672e+00, -1.2999668e+00,\n                          -1.1999664e+00, -1.0999660e+00, -9.9996567e-01, -8.9996529e-01,\n                          -7.9996490e-01, -6.9996452e-01, -5.9996414e-01, -4.9996376e-01,\n                          -3.9996338e-01, -2.9996300e-01, -1.9996262e-01, -9.9962234e-02,\n                           3.8146973e-05,  1.0003853e-01,  2.0003891e-01,  3.0003929e-01,\n                           4.0003967e-01,  5.0004005e-01,  6.0004044e-01,  7.0004082e-01,\n                           8.0004120e-01,  9.0004158e-01,  1.0000420e+00,  1.1000423e+00,\n                           1.2000427e+00,  1.3000431e+00,  1.4000435e+00,  1.5000439e+00,\n                           1.6000443e+00,  1.7000446e+00,  1.8000450e+00,  1.9000454e+00,\n                           2.0000458e+00,  2.1000462e+00,  2.2000465e+00,  2.3000469e+00,\n                           2.4000473e+00,  2.5000477e+00,  2.6000481e+00,  2.7000484e+00,\n                           2.8000488e+00,  2.9000492e+00,  3.0000496e+00,  3.1000500e+00,\n                           3.2000504e+00,  3.3000507e+00,  3.4000511e+00,  3.5000515e+00,\n                           3.6000519e+00,  3.7000523e+00,  3.8000526e+00,  3.9000530e+00,\n                           4.0000534e+00,  4.1000538e+00,  4.2000542e+00,  4.3000546e+00,\n                           4.4000549e+00,  4.5000553e+00,  4.6000557e+00,  4.7000561e+00,\n                           4.8000565e+00,  4.9000568e+00,  5.0000572e+00,  5.1000576e+00,\n                           5.2000580e+00,  5.3000584e+00,  5.4000587e+00,  5.5000591e+00,\n                           5.6000595e+00,  5.7000599e+00,  5.8000603e+00,  5.9000607e+00,\n                           6.0000610e+00,  6.1000614e+00,  6.2000618e+00,  6.3000622e+00,\n                           6.4000626e+00,  6.5000629e+00,  6.6000633e+00,  6.7000637e+00,\n                           6.8000641e+00,  6.9000645e+00,  7.0000648e+00,  7.1000652e+00,\n                           7.2000656e+00,  7.3000660e+00,  7.4000664e+00,  7.5000668e+00,\n                           7.6000671e+00,  7.7000675e+00,  7.8000679e+00,  7.9000683e+00,\n                           8.0000687e+00,  8.1000690e+00,  8.2000694e+00,  8.3000698e+00,\n                           8.4000702e+00,  8.5000706e+00,  8.6000710e+00,  8.7000713e+00,\n                           8.8000717e+00,  8.9000721e+00,  9.0000725e+00,  9.1000729e+00,\n                           9.2000732e+00,  9.3000736e+00,  9.4000740e+00,  9.5000744e+00,\n                           9.6000748e+00,  9.7000751e+00,  9.8000755e+00,  9.9000759e+00],\n                         dtype=float32),\n              'y': array([0.6766764 , 0.7041514 , 0.7324488 , 0.76157874, 0.7915505 , 0.8223729 ,\n                          0.8540538 , 0.88660014, 0.92001885, 0.95431566, 0.9894949 , 1.0255606 ,\n                          1.0625159 , 1.1003625 , 1.1391015 , 1.1787328 , 1.2192549 , 1.2606659 ,\n                          1.3029618 , 1.3461386 , 1.3901899 , 1.4351084 , 1.480886  , 1.5275127 ,\n                          1.574977  , 1.6232669 , 1.6723683 , 1.7222661 , 1.7729431 , 1.8243816 ,\n                          1.8765615 , 1.929462  , 1.9830602 , 2.0373323 , 2.0922527 , 2.147794  ,\n                          2.2039285 , 2.2606251 , 2.3178535 , 2.3755798 , 2.4337702 , 2.4923887 ,\n                          2.5513985 , 2.6107607 , 2.670436  , 2.7303824 , 2.7905583 , 2.85092   ,\n                          2.9114223 , 2.9720197 , 3.032665  , 3.0933099 , 3.153906  , 3.2144034 ,\n                          3.2747505 , 3.3348966 , 3.3947892 , 3.4543753 , 3.5136018 , 3.572414  ,\n                          3.6307585 , 3.6885798 , 3.7458234 , 3.8024342 , 3.858357  , 3.913536  ,\n                          3.9679172 , 4.021445  , 4.0740647 , 4.125723  , 4.1763644 , 4.225937  ,\n                          4.2743883 , 4.321666  , 4.3677187 , 4.4124975 , 4.4559517 , 4.498035  ,\n                          4.5386996 , 4.5779    , 4.615593  , 4.651735  , 4.686285  , 4.719204  ,\n                          4.750453  , 4.7799964 , 4.807801  , 4.8338323 , 4.858062  , 4.88046   ,\n                          4.901     , 4.9196587 , 4.9364133 , 4.9512444 , 4.9641333 , 4.9750657 ,\n                          4.984029  , 4.9910107 , 4.996003  , 4.9990005 , 5.        , 4.998999  ,\n                          4.996     , 4.991006  , 4.984022  , 4.9750586 , 4.9641247 , 4.9512334 ,\n                          4.9364014 , 4.9196453 , 4.9009852 , 4.880443  , 4.8580437 , 4.833813  ,\n                          4.8077803 , 4.779975  , 4.7504296 , 4.719179  , 4.6862593 , 4.651708  ,\n                          4.615565  , 4.577871  , 4.538669  , 4.4980035 , 4.4559193 , 4.412463  ,\n                          4.3676844 , 4.32163   , 4.2743516 , 4.2258997 , 4.1763263 , 4.125684  ,\n                          4.074025  , 4.0214043 , 3.9678762 , 3.9134943 , 3.8583145 , 3.8023913 ,\n                          3.74578   , 3.688536  , 3.6307142 , 3.572369  , 3.5135567 , 3.45433   ,\n                          3.394744  , 3.334851  , 3.2747045 , 3.2143571 , 3.15386   , 3.0932639 ,\n                          3.0326188 , 2.9719734 , 2.911376  , 2.8508737 , 2.7905126 , 2.7303364 ,\n                          2.6703904 , 2.610715  , 2.5513532 , 2.492344  , 2.4337256 , 2.3755355 ,\n                          2.3178098 , 2.260582  , 2.2038856 , 2.1477513 , 2.0922108 , 2.0372906 ,\n                          1.9830191 , 1.9294213 , 1.8765213 , 1.824342  , 1.7729042 , 1.7222278 ,\n                          1.6723309 , 1.6232299 , 1.5749406 , 1.5274765 , 1.4808507 , 1.4350737 ,\n                          1.3901558 , 1.3461052 , 1.3029292 , 1.260634  , 1.2192236 , 1.1787021 ,\n                          1.1390715 , 1.1003332 , 1.0624872 , 1.0255327 , 0.9894676 , 0.95428914,\n                          0.91999316, 0.88657504, 0.8540292 , 0.82234913, 0.79152733, 0.76155615,\n                          0.73242694, 0.70413005], dtype=float32)}],\n    'layout': {'autosize': False,\n               'height': 600,\n               'legend': {'x': 0.95, 'xanchor': 'right', 'y': 0.9, 'yanchor': 'top'},\n               'plot_bgcolor': 'rgba(0,0,0,0)',\n               'template': '...',\n               'title': {'text': 'Squared exponential kernel', 'x': 0.5, 'xanchor': 'center'},\n               'width': 800,\n               'xaxis': {'linecolor': 'black', 'linewidth': 1, 'showline': True, 'title': {'text': 'input values'}},\n               'yaxis': {'linecolor': 'black', 'linewidth': 1, 'showline': True, 'title': {'text': 'output values'}}}\n})"
     },
     "execution_count": 12,
     "metadata": {},
     "output_type": "execute_result"
    }
   ],
   "source": [
    "x_lines = jnp.arange(-10, 10, 0.1)\n",
    "kernel = SquaredExponentialKernel(length=5, sigma_f=5)\n",
    "\n",
    "fig0 = go.FigureWidget(data=[\n",
    "    line_scatter(\n",
    "        x_lines=x_lines,\n",
    "        y_lines=jnp.array([kernel(x, 0) for x in x_lines]),\n",
    "    )\n",
    "])\n",
    "\n",
    "fig0 = update_layout_of_graph(fig0, title='Squared exponential kernel')\n",
    "fig0"
   ]
  },
  {
   "cell_type": "code",
   "execution_count": 22,
   "outputs": [
    {
     "data": {
      "application/vnd.plotly.v1+json": {
       "data": [
        {
         "fill": "toself",
         "fillcolor": "rgba(189,195,199,0.5)",
         "hoverinfo": "skip",
         "line": {
          "color": "rgba(200,200,200,0)"
         },
         "name": "mean plus/minus 1*standard deviation",
         "showlegend": true,
         "visible": true,
         "x": [
          -1.0,
          -0.8999999761581421,
          -0.7999999523162842,
          -0.6999999284744263,
          -0.5999999046325684,
          -0.49999988079071045,
          -0.39999985694885254,
          -0.29999983310699463,
          -0.19999980926513672,
          -0.09999978542327881,
          2.384185791015625E-7,
          0.10000026226043701,
          0.20000028610229492,
          0.30000030994415283,
          0.40000033378601074,
          0.5000003576278687,
          0.6000003814697266,
          0.7000004053115845,
          0.8000004291534424,
          0.9000004529953003,
          1.0000004768371582,
          1.1000003814697266,
          1.200000524520874,
          1.3000006675720215,
          1.4000005722045898,
          1.5000004768371582,
          1.6000006198883057,
          1.7000007629394531,
          1.8000006675720215,
          1.9000005722045898,
          2.0000007152557373,
          2.1000008583068848,
          2.200000762939453,
          2.3000006675720215,
          2.400000810623169,
          2.5000009536743164,
          2.6000008583068848,
          2.700000762939453,
          2.8000009059906006,
          2.900001049041748,
          3.0000009536743164,
          3.1000008583068848,
          3.200000762939453,
          3.3000011444091797,
          3.400001049041748,
          3.5000009536743164,
          3.600001335144043,
          3.7000012397766113,
          3.8000011444091797,
          3.900001049041748,
          4.000000953674316,
          4.100001335144043,
          4.200001239776611,
          4.30000114440918,
          4.400001525878906,
          4.500001430511475,
          4.600001335144043,
          4.700001239776611,
          4.80000114440918,
          4.900001525878906,
          5.000001430511475,
          5.100001335144043,
          5.2000017166137695,
          5.300001621246338,
          5.400001525878906,
          5.500001430511475,
          5.600001335144043,
          5.7000017166137695,
          5.800001621246338,
          5.900001525878906,
          6.000001907348633,
          6.100001811981201,
          6.2000017166137695,
          6.300001621246338,
          6.400001525878906,
          6.500001907348633,
          6.600001811981201,
          6.7000017166137695,
          6.800002098083496,
          6.9000020027160645,
          6.9000020027160645,
          6.800002098083496,
          6.7000017166137695,
          6.600001811981201,
          6.500001907348633,
          6.400001525878906,
          6.300001621246338,
          6.2000017166137695,
          6.100001811981201,
          6.000001907348633,
          5.900001525878906,
          5.800001621246338,
          5.7000017166137695,
          5.600001335144043,
          5.500001430511475,
          5.400001525878906,
          5.300001621246338,
          5.2000017166137695,
          5.100001335144043,
          5.000001430511475,
          4.900001525878906,
          4.80000114440918,
          4.700001239776611,
          4.600001335144043,
          4.500001430511475,
          4.400001525878906,
          4.30000114440918,
          4.200001239776611,
          4.100001335144043,
          4.000000953674316,
          3.900001049041748,
          3.8000011444091797,
          3.7000012397766113,
          3.600001335144043,
          3.5000009536743164,
          3.400001049041748,
          3.3000011444091797,
          3.200000762939453,
          3.1000008583068848,
          3.0000009536743164,
          2.900001049041748,
          2.8000009059906006,
          2.700000762939453,
          2.6000008583068848,
          2.5000009536743164,
          2.400000810623169,
          2.3000006675720215,
          2.200000762939453,
          2.1000008583068848,
          2.0000007152557373,
          1.9000005722045898,
          1.8000006675720215,
          1.7000007629394531,
          1.6000006198883057,
          1.5000004768371582,
          1.4000005722045898,
          1.3000006675720215,
          1.200000524520874,
          1.1000003814697266,
          1.0000004768371582,
          0.9000004529953003,
          0.8000004291534424,
          0.7000004053115845,
          0.6000003814697266,
          0.5000003576278687,
          0.40000033378601074,
          0.30000030994415283,
          0.20000028610229492,
          0.10000026226043701,
          2.384185791015625E-7,
          -0.09999978542327881,
          -0.19999980926513672,
          -0.29999983310699463,
          -0.39999985694885254,
          -0.49999988079071045,
          -0.5999999046325684,
          -0.6999999284744263,
          -0.7999999523162842,
          -0.8999999761581421,
          -1.0
         ],
         "y": [
          1.1788870096206665,
          1.3570294380187988,
          1.5565049648284912,
          1.757209062576294,
          1.9303021430969238,
          2.0417561531066895,
          2.058711528778076,
          1.9576555490493774,
          1.7324707508087158,
          1.3998762369155884,
          1.0007505416870117,
          0.6590869426727295,
          0.3029939830303192,
          7.562229875475168E-4,
          -0.08473864942789078,
          -0.006561487913131714,
          0.21281087398529053,
          0.5255100131034851,
          0.868563175201416,
          1.177656650543213,
          1.4007731676101685,
          1.7236452102661133,
          1.9377403259277344,
          2.030852794647217,
          2.011854887008667,
          1.9043166637420654,
          1.739201545715332,
          1.5478401184082031,
          1.356595516204834,
          1.183871865272522,
          1.0393892526626587,
          0.9251478910446167,
          0.8373046517372131,
          0.7682839632034302,
          0.708705723285675,
          0.6489948034286499,
          0.5807009935379028,
          0.497568279504776,
          0.3963182270526886,
          0.2770310938358307,
          0.14299911260604858,
          7.537637138739228E-4,
          0.1350298970937729,
          0.2585262358188629,
          0.36180391907691956,
          0.43789196014404297,
          0.4819461405277252,
          0.4911711812019348,
          0.4644058346748352,
          0.40164822340011597,
          0.3038431704044342,
          0.17312893271446228,
          0.013493716716766357,
          -0.16849660873413086,
          -0.36334848403930664,
          -0.5590263605117798,
          -0.7421830296516418,
          -0.8992456793785095,
          -0.742182731628418,
          -0.558937132358551,
          -0.3629764914512634,
          -0.16739636659622192,
          0.016296088695526123,
          0.17959484457969666,
          0.3176261782646179,
          0.4289849102497101,
          0.5150082111358643,
          0.5787966251373291,
          0.6242744326591492,
          0.6554694771766663,
          0.6760536432266235,
          0.6891103982925415,
          0.6970650553703308,
          0.7017158269882202,
          0.7043237090110779,
          0.7057257294654846,
          0.7064481973648071,
          0.7068050503730774,
          0.7069740295410156,
          0.7070507407188416,
          -0.7071632742881775,
          -0.7072399854660034,
          -0.7074088454246521,
          -0.7077654600143433,
          -0.7084866166114807,
          -0.7098835110664368,
          -0.7124729156494141,
          -0.7170616984367371,
          -0.7248251438140869,
          -0.7373403310775757,
          -0.7565144896507263,
          -0.7843372225761414,
          -0.8224061727523804,
          -0.8712354898452759,
          -0.929465651512146,
          -0.993204653263092,
          -1.0557730197906494,
          -1.1080811023712158,
          -1.1397080421447754,
          -1.1405487060546875,
          -1.1027088165283203,
          -1.022200584411621,
          -0.9007533192634583,
          -1.0221221446990967,
          -1.1024413108825684,
          -1.1398502588272095,
          -1.138056755065918,
          -1.1044001579284668,
          -1.047964096069336,
          -0.9774523973464966,
          -0.8993588089942932,
          -0.8168906569480896,
          -0.7299241423606873,
          -0.6359515190124512,
          -0.5316722989082336,
          -0.41470399498939514,
          -0.2848956882953644,
          -0.1449158638715744,
          -7.538448553532362E-4,
          -0.13701221346855164,
          -0.2667326033115387,
          -0.38124480843544006,
          -0.47472724318504333,
          -0.5436320304870605,
          -0.5862408876419067,
          -0.6017323136329651,
          -0.5890544652938843,
          -0.5459871888160706,
          -0.46875956654548645,
          -0.35249313712120056,
          -0.19256725907325745,
          0.013198554515838623,
          0.26187998056411743,
          0.5428940653800964,
          0.836395800113678,
          1.113561749458313,
          1.3394768238067627,
          1.4787628650665283,
          1.5032382011413574,
          1.3992265462875366,
          1.0004587173461914,
          0.5776724815368652,
          0.19479291141033173,
          -0.08686676621437073,
          -0.22123567759990692,
          -0.1884205937385559,
          -7.513855816796422E-4,
          0.23810485005378723,
          0.5909712314605713,
          0.999242901802063,
          1.2650724649429321,
          1.4128437042236328,
          1.4269367456436157,
          1.315629482269287,
          1.1060166358947754,
          0.8352311253547668,
          0.541456937789917,
          0.25693875551223755,
          0.004128575325012207,
          -0.20506152510643005
         ],
         "type": "scatter"
        },
        {
         "fill": "toself",
         "fillcolor": "rgba(189,195,199,0.5)",
         "hoverinfo": "skip",
         "line": {
          "color": "rgba(200,200,200,0)"
         },
         "name": "mean plus/minus 2*standard deviation",
         "showlegend": true,
         "visible": true,
         "x": [
          -1.0,
          -0.8999999761581421,
          -0.7999999523162842,
          -0.6999999284744263,
          -0.5999999046325684,
          -0.49999988079071045,
          -0.39999985694885254,
          -0.29999983310699463,
          -0.19999980926513672,
          -0.09999978542327881,
          2.384185791015625E-7,
          0.10000026226043701,
          0.20000028610229492,
          0.30000030994415283,
          0.40000033378601074,
          0.5000003576278687,
          0.6000003814697266,
          0.7000004053115845,
          0.8000004291534424,
          0.9000004529953003,
          1.0000004768371582,
          1.1000003814697266,
          1.200000524520874,
          1.3000006675720215,
          1.4000005722045898,
          1.5000004768371582,
          1.6000006198883057,
          1.7000007629394531,
          1.8000006675720215,
          1.9000005722045898,
          2.0000007152557373,
          2.1000008583068848,
          2.200000762939453,
          2.3000006675720215,
          2.400000810623169,
          2.5000009536743164,
          2.6000008583068848,
          2.700000762939453,
          2.8000009059906006,
          2.900001049041748,
          3.0000009536743164,
          3.1000008583068848,
          3.200000762939453,
          3.3000011444091797,
          3.400001049041748,
          3.5000009536743164,
          3.600001335144043,
          3.7000012397766113,
          3.8000011444091797,
          3.900001049041748,
          4.000000953674316,
          4.100001335144043,
          4.200001239776611,
          4.30000114440918,
          4.400001525878906,
          4.500001430511475,
          4.600001335144043,
          4.700001239776611,
          4.80000114440918,
          4.900001525878906,
          5.000001430511475,
          5.100001335144043,
          5.2000017166137695,
          5.300001621246338,
          5.400001525878906,
          5.500001430511475,
          5.600001335144043,
          5.7000017166137695,
          5.800001621246338,
          5.900001525878906,
          6.000001907348633,
          6.100001811981201,
          6.2000017166137695,
          6.300001621246338,
          6.400001525878906,
          6.500001907348633,
          6.600001811981201,
          6.7000017166137695,
          6.800002098083496,
          6.9000020027160645,
          6.9000020027160645,
          6.800002098083496,
          6.7000017166137695,
          6.600001811981201,
          6.500001907348633,
          6.400001525878906,
          6.300001621246338,
          6.2000017166137695,
          6.100001811981201,
          6.000001907348633,
          5.900001525878906,
          5.800001621246338,
          5.7000017166137695,
          5.600001335144043,
          5.500001430511475,
          5.400001525878906,
          5.300001621246338,
          5.2000017166137695,
          5.100001335144043,
          5.000001430511475,
          4.900001525878906,
          4.80000114440918,
          4.700001239776611,
          4.600001335144043,
          4.500001430511475,
          4.400001525878906,
          4.30000114440918,
          4.200001239776611,
          4.100001335144043,
          4.000000953674316,
          3.900001049041748,
          3.8000011444091797,
          3.7000012397766113,
          3.600001335144043,
          3.5000009536743164,
          3.400001049041748,
          3.3000011444091797,
          3.200000762939453,
          3.1000008583068848,
          3.0000009536743164,
          2.900001049041748,
          2.8000009059906006,
          2.700000762939453,
          2.6000008583068848,
          2.5000009536743164,
          2.400000810623169,
          2.3000006675720215,
          2.200000762939453,
          2.1000008583068848,
          2.0000007152557373,
          1.9000005722045898,
          1.8000006675720215,
          1.7000007629394531,
          1.6000006198883057,
          1.5000004768371582,
          1.4000005722045898,
          1.3000006675720215,
          1.200000524520874,
          1.1000003814697266,
          1.0000004768371582,
          0.9000004529953003,
          0.8000004291534424,
          0.7000004053115845,
          0.6000003814697266,
          0.5000003576278687,
          0.40000033378601074,
          0.30000030994415283,
          0.20000028610229492,
          0.10000026226043701,
          2.384185791015625E-7,
          -0.09999978542327881,
          -0.19999980926513672,
          -0.29999983310699463,
          -0.39999985694885254,
          -0.49999988079071045,
          -0.5999999046325684,
          -0.6999999284744263,
          -0.7999999523162842,
          -0.8999999761581421,
          -1.0
         ],
         "y": [
          1.870861291885376,
          2.033479928970337,
          2.2062880992889404,
          2.3650851249694824,
          2.477837562561035,
          2.5096259117126465,
          2.4302525520324707,
          2.2230148315429688,
          1.8922841548919678,
          1.467278003692627,
          1.0015043020248413,
          0.6931447982788086,
          0.3354385495185852,
          0.0015100273303687572,
          -0.03289768099784851,
          0.10077560693025589,
          0.36264967918395996,
          0.690868616104126,
          1.0140085220336914,
          1.2662557363510132,
          1.4015464782714844,
          1.8338487148284912,
          2.167229175567627,
          2.3765406608581543,
          2.461001396179199,
          2.438277006149292,
          2.337355375289917,
          2.1908202171325684,
          2.028294086456299,
          1.8720914125442505,
          1.7353304624557495,
          1.6221015453338623,
          1.528950572013855,
          1.4469531774520874,
          1.3639247417449951,
          1.2666126489639282,
          1.1428675651550293,
          0.9837160706520081,
          0.7850997447967529,
          0.5489129424095154,
          0.2830047905445099,
          0.0015075679402798414,
          0.27500277757644653,
          0.5302371978759766,
          0.7500578761100769,
          0.9226740598678589,
          1.0408949851989746,
          1.1017189025878906,
          1.1050541400909424,
          1.0521516799926758,
          0.944490909576416,
          0.7836754322052002,
          0.5724406838417053,
          0.3162834644317627,
          0.024902403354644775,
          -0.2873188257217407,
          -0.6022135019302368,
          -0.8984919190406799,
          -0.6021737456321716,
          -0.28705132007598877,
          0.02580958604812622,
          0.3187594413757324,
          0.5784847140312195,
          0.7972787618637085,
          0.9730415940284729,
          1.1082102060317993,
          1.208130121231079,
          1.279397964477539,
          1.3285802602767944,
          1.3614614009857178,
          1.3827506303787231,
          1.3960782289505005,
          1.4041284322738647,
          1.4088102579116821,
          1.4114272594451904,
          1.4128319025039673,
          1.4135550260543823,
          1.4139119386672974,
          1.41408109664917,
          1.414157748222351,
          -1.414270281791687,
          -1.4143469333648682,
          -1.4145158529281616,
          -1.4148722887039185,
          -1.4155927896499634,
          -1.4169871807098389,
          -1.4195672273635864,
          -1.424125075340271,
          -1.4317928552627563,
          -1.4440373182296753,
          -1.4625065326690674,
          -1.4886430501937866,
          -1.5230076313018799,
          -1.5643572807312012,
          -1.608690857887268,
          -1.6486201286315918,
          -1.6734570264816284,
          -1.6702697277069092,
          -1.625863790512085,
          -1.5293347835540771,
          -1.3745945692062378,
          -1.1622095108032227,
          -0.9015070796012878,
          -1.1620917320251465,
          -1.3741488456726074,
          -1.5281012058258057,
          -1.6228368282318115,
          -1.6633472442626953,
          -1.658510684967041,
          -1.6181001663208008,
          -1.5498623847961426,
          -1.4575388431549072,
          -1.3404717445373535,
          -1.1949002742767334,
          -1.0164544582366943,
          -0.8029579520225525,
          -0.556606650352478,
          -0.28488874435424805,
          -0.0015076491981744766,
          -0.27701786160469055,
          -0.5386144518852234,
          -0.7700263261795044,
          -0.9608749747276306,
          -1.1057984828948975,
          -1.203858733177185,
          -1.2569513320922852,
          -1.2677236795425415,
          -1.2376331090927124,
          -1.1657133102416992,
          -1.0484343767166138,
          -0.8807867765426636,
          -0.6584999561309814,
          -0.3811001181602478,
          -0.05525970458984375,
          0.30243539810180664,
          0.664415180683136,
          0.9937888383865356,
          1.2492740154266357,
          1.3930346965789795,
          1.3984532356262207,
          0.9118596315383911,
          0.43222716450691223,
          0.02943435311317444,
          -0.23670558631420135,
          -0.3285727798938751,
          -0.24026155471801758,
          -0.0015051898080855608,
          0.20566028356552124,
          0.5569133758544922,
          0.9984891414642334,
          1.1976706981658936,
          1.2530303001403809,
          1.1615773439407349,
          0.944088339805603,
          0.6381468176841736,
          0.28769564628601074,
          -0.06641912460327148,
          -0.39284437894821167,
          -0.6723218560218811,
          -0.8970358371734619
         ],
         "type": "scatter"
        },
        {
         "fill": "toself",
         "fillcolor": "rgba(189,195,199,0.5)",
         "hoverinfo": "skip",
         "line": {
          "color": "rgba(200,200,200,0)"
         },
         "name": "mean plus/minus 3*standard deviation",
         "showlegend": true,
         "visible": true,
         "x": [
          -1.0,
          -0.8999999761581421,
          -0.7999999523162842,
          -0.6999999284744263,
          -0.5999999046325684,
          -0.49999988079071045,
          -0.39999985694885254,
          -0.29999983310699463,
          -0.19999980926513672,
          -0.09999978542327881,
          2.384185791015625E-7,
          0.10000026226043701,
          0.20000028610229492,
          0.30000030994415283,
          0.40000033378601074,
          0.5000003576278687,
          0.6000003814697266,
          0.7000004053115845,
          0.8000004291534424,
          0.9000004529953003,
          1.0000004768371582,
          1.1000003814697266,
          1.200000524520874,
          1.3000006675720215,
          1.4000005722045898,
          1.5000004768371582,
          1.6000006198883057,
          1.7000007629394531,
          1.8000006675720215,
          1.9000005722045898,
          2.0000007152557373,
          2.1000008583068848,
          2.200000762939453,
          2.3000006675720215,
          2.400000810623169,
          2.5000009536743164,
          2.6000008583068848,
          2.700000762939453,
          2.8000009059906006,
          2.900001049041748,
          3.0000009536743164,
          3.1000008583068848,
          3.200000762939453,
          3.3000011444091797,
          3.400001049041748,
          3.5000009536743164,
          3.600001335144043,
          3.7000012397766113,
          3.8000011444091797,
          3.900001049041748,
          4.000000953674316,
          4.100001335144043,
          4.200001239776611,
          4.30000114440918,
          4.400001525878906,
          4.500001430511475,
          4.600001335144043,
          4.700001239776611,
          4.80000114440918,
          4.900001525878906,
          5.000001430511475,
          5.100001335144043,
          5.2000017166137695,
          5.300001621246338,
          5.400001525878906,
          5.500001430511475,
          5.600001335144043,
          5.7000017166137695,
          5.800001621246338,
          5.900001525878906,
          6.000001907348633,
          6.100001811981201,
          6.2000017166137695,
          6.300001621246338,
          6.400001525878906,
          6.500001907348633,
          6.600001811981201,
          6.7000017166137695,
          6.800002098083496,
          6.9000020027160645,
          6.9000020027160645,
          6.800002098083496,
          6.7000017166137695,
          6.600001811981201,
          6.500001907348633,
          6.400001525878906,
          6.300001621246338,
          6.2000017166137695,
          6.100001811981201,
          6.000001907348633,
          5.900001525878906,
          5.800001621246338,
          5.7000017166137695,
          5.600001335144043,
          5.500001430511475,
          5.400001525878906,
          5.300001621246338,
          5.2000017166137695,
          5.100001335144043,
          5.000001430511475,
          4.900001525878906,
          4.80000114440918,
          4.700001239776611,
          4.600001335144043,
          4.500001430511475,
          4.400001525878906,
          4.30000114440918,
          4.200001239776611,
          4.100001335144043,
          4.000000953674316,
          3.900001049041748,
          3.8000011444091797,
          3.7000012397766113,
          3.600001335144043,
          3.5000009536743164,
          3.400001049041748,
          3.3000011444091797,
          3.200000762939453,
          3.1000008583068848,
          3.0000009536743164,
          2.900001049041748,
          2.8000009059906006,
          2.700000762939453,
          2.6000008583068848,
          2.5000009536743164,
          2.400000810623169,
          2.3000006675720215,
          2.200000762939453,
          2.1000008583068848,
          2.0000007152557373,
          1.9000005722045898,
          1.8000006675720215,
          1.7000007629394531,
          1.6000006198883057,
          1.5000004768371582,
          1.4000005722045898,
          1.3000006675720215,
          1.200000524520874,
          1.1000003814697266,
          1.0000004768371582,
          0.9000004529953003,
          0.8000004291534424,
          0.7000004053115845,
          0.6000003814697266,
          0.5000003576278687,
          0.40000033378601074,
          0.30000030994415283,
          0.20000028610229492,
          0.10000026226043701,
          2.384185791015625E-7,
          -0.09999978542327881,
          -0.19999980926513672,
          -0.29999983310699463,
          -0.39999985694885254,
          -0.49999988079071045,
          -0.5999999046325684,
          -0.6999999284744263,
          -0.7999999523162842,
          -0.8999999761581421,
          -1.0
         ],
         "y": [
          2.562835693359375,
          2.709930181503296,
          2.8560712337493896,
          2.972961187362671,
          3.0253729820251465,
          2.9774956703186035,
          2.8017938137054443,
          2.4883742332458496,
          2.052097797393799,
          1.534679889678955,
          1.0022581815719604,
          0.7272026538848877,
          0.3678831160068512,
          0.002263831440359354,
          0.018943294882774353,
          0.2081127166748047,
          0.5124885439872742,
          0.8562271595001221,
          1.1594538688659668,
          1.354854702949524,
          1.4023197889328003,
          1.9440521001815796,
          2.3967180252075195,
          2.722228765487671,
          2.9101479053497314,
          2.9722375869750977,
          2.935509204864502,
          2.8338003158569336,
          2.6999926567077637,
          2.5603108406066895,
          2.43127179145813,
          2.3190553188323975,
          2.2205965518951416,
          2.125622272491455,
          2.01914381980896,
          1.8842304944992065,
          1.7050341367721558,
          1.469863772392273,
          1.1738812923431396,
          0.8207948207855225,
          0.4230104684829712,
          0.002261372283101082,
          0.41497567296028137,
          0.8019481301307678,
          1.1383118629455566,
          1.4074562788009644,
          1.5998438596725464,
          1.712266445159912,
          1.7457022666931152,
          1.70265531539917,
          1.5851386785507202,
          1.3942219018936157,
          1.131387710571289,
          0.8010635375976562,
          0.41315335035324097,
          -0.015611350536346436,
          -0.462243914604187,
          -0.8977380990982056,
          -0.4621647894382477,
          -0.015165507793426514,
          0.41459566354751587,
          0.8049153089523315,
          1.1406733989715576,
          1.4149627685546875,
          1.6284570693969727,
          1.787435531616211,
          1.9012519121170044,
          1.9799994230270386,
          2.032886028289795,
          2.067453384399414,
          2.089447498321533,
          2.10304594039917,
          2.111191749572754,
          2.1159045696258545,
          2.118530750274658,
          2.1199381351470947,
          2.120661735534668,
          2.121018886566162,
          2.121187925338745,
          2.121264696121216,
          -2.1213772296905518,
          -2.1214540004730225,
          -2.1216225624084473,
          -2.121979236602783,
          -2.122699022293091,
          -2.1240906715393066,
          -2.126661539077759,
          -2.13118839263916,
          -2.138760566711426,
          -2.1507344245910645,
          -2.1684985160827637,
          -2.192948818206787,
          -2.22360897064209,
          -2.257479190826416,
          -2.2879161834716797,
          -2.3040354251861572,
          -2.2911410331726074,
          -2.2324583530426025,
          -2.1120195388793945,
          -1.9181208610534668,
          -1.6464803218841553,
          -1.3022185564041138,
          -0.9022608995437622,
          -1.3020613193511963,
          -1.6458563804626465,
          -1.9163520336151123,
          -2.107616901397705,
          -2.2222940921783447,
          -2.269057035446167,
          -2.2587478160858154,
          -2.2003657817840576,
          -2.098187208175659,
          -1.951019525527954,
          -1.7538491487503052,
          -1.5012365579605103,
          -1.1912119388580322,
          -0.8283175826072693,
          -0.4248616397380829,
          -0.0022614533081650734,
          -0.41702353954315186,
          -0.8104963302612305,
          -1.1588077545166016,
          -1.447022795677185,
          -1.667965054512024,
          -1.8214765787124634,
          -1.9121702909469604,
          -1.9463928937911987,
          -1.929279088973999,
          -1.8626669645309448,
          -1.7443755865097046,
          -1.569006323814392,
          -1.3301984071731567,
          -1.0240802764892578,
          -0.6534134149551392,
          -0.23152506351470947,
          0.21526861190795898,
          0.6481008529663086,
          1.0197852849960327,
          1.2828313112258911,
          1.3976799249649048,
          0.8232606649398804,
          0.28678184747695923,
          -0.13592422008514404,
          -0.386544406414032,
          -0.43590986728668213,
          -0.29210251569747925,
          -0.0022589941509068012,
          0.17321571707725525,
          0.5228555202484131,
          0.997735321521759,
          1.1302688121795654,
          1.0932167768478394,
          0.896217942237854,
          0.572547197341919,
          0.17027699947357178,
          -0.25983989238739014,
          -0.67429518699646,
          -1.0426275730133057,
          -1.3487722873687744,
          -1.589010238647461
         ],
         "type": "scatter"
        },
        {
         "line": {
          "color": "blue",
          "width": 2
         },
         "name": "Predicted function",
         "showlegend": true,
         "visible": true,
         "x": [
          -1.0,
          -0.8999999761581421,
          -0.7999999523162842,
          -0.6999999284744263,
          -0.5999999046325684,
          -0.49999988079071045,
          -0.39999985694885254,
          -0.29999983310699463,
          -0.19999980926513672,
          -0.09999978542327881,
          2.384185791015625E-7,
          0.10000026226043701,
          0.20000028610229492,
          0.30000030994415283,
          0.40000033378601074,
          0.5000003576278687,
          0.6000003814697266,
          0.7000004053115845,
          0.8000004291534424,
          0.9000004529953003,
          1.0000004768371582,
          1.1000003814697266,
          1.200000524520874,
          1.3000006675720215,
          1.4000005722045898,
          1.5000004768371582,
          1.6000006198883057,
          1.7000007629394531,
          1.8000006675720215,
          1.9000005722045898,
          2.0000007152557373,
          2.1000008583068848,
          2.200000762939453,
          2.3000006675720215,
          2.400000810623169,
          2.5000009536743164,
          2.6000008583068848,
          2.700000762939453,
          2.8000009059906006,
          2.900001049041748,
          3.0000009536743164,
          3.1000008583068848,
          3.200000762939453,
          3.3000011444091797,
          3.400001049041748,
          3.5000009536743164,
          3.600001335144043,
          3.7000012397766113,
          3.8000011444091797,
          3.900001049041748,
          4.000000953674316,
          4.100001335144043,
          4.200001239776611,
          4.30000114440918,
          4.400001525878906,
          4.500001430511475,
          4.600001335144043,
          4.700001239776611,
          4.80000114440918,
          4.900001525878906,
          5.000001430511475,
          5.100001335144043,
          5.2000017166137695,
          5.300001621246338,
          5.400001525878906,
          5.500001430511475,
          5.600001335144043,
          5.7000017166137695,
          5.800001621246338,
          5.900001525878906,
          6.000001907348633,
          6.100001811981201,
          6.2000017166137695,
          6.300001621246338,
          6.400001525878906,
          6.500001907348633,
          6.600001811981201,
          6.7000017166137695,
          6.800002098083496,
          6.9000020027160645
         ],
         "y": [
          0.4869127571582794,
          0.6805790066719055,
          0.9067218899726868,
          1.1493330001831055,
          1.382766604423523,
          1.5738863945007324,
          1.6871705055236816,
          1.6922961473464966,
          1.5726572275161743,
          1.3324743509292603,
          0.9999967217445374,
          0.6250290870666504,
          0.2705494165420532,
          2.4187183953472413E-6,
          -0.13657961785793304,
          -0.11389858275651932,
          0.0629720538854599,
          0.360151469707489,
          0.7231178283691406,
          1.0890576839447021,
          1.3999998569488525,
          1.6134417057037354,
          1.7082515954971313,
          1.6851648092269897,
          1.5627082586288452,
          1.3703562021255493,
          1.1410478353500366,
          0.9048600792884827,
          0.6848970651626587,
          0.49565228819847107,
          0.34344807267189026,
          0.22819414734840393,
          0.1456587165594101,
          0.08961472660303116,
          0.05348672345280647,
          0.03137698397040367,
          0.018534498289227486,
          0.011420520953834057,
          0.007536712102591991,
          0.005149258300662041,
          0.0029934525955468416,
          -4.0578939319857454E-8,
          -0.004942976403981447,
          -0.013184716925024986,
          -0.02645004913210869,
          -0.046890176832675934,
          -0.07700268179178238,
          -0.11937648057937622,
          -0.1762424111366272,
          -0.24885529279708862,
          -0.33680459856987,
          -0.437417596578598,
          -0.5454532504081726,
          -0.6532766819000244,
          -0.7515993714332581,
          -0.8307338356971741,
          -0.8821526169776917,
          -0.8999994993209839,
          -0.8821916580200195,
          -0.8308229446411133,
          -0.7517625689506531,
          -0.6535521745681763,
          -0.5458925366401672,
          -0.4380891025066376,
          -0.33778923749923706,
          -0.25024035573005676,
          -0.17811362445354462,
          -0.12180478870868683,
          -0.08003141731023788,
          -0.050522517412900925,
          -0.030643373727798462,
          -0.01785736344754696,
          -0.00999830849468708,
          -0.005378532223403454,
          -0.002779901959002018,
          -0.0013804534683004022,
          -6.586336530745029E-4,
          -3.0192159465514123E-4,
          -1.329753577010706E-4,
          -5.627009886666201E-5
         ],
         "type": "scatter"
        },
        {
         "marker": {
          "color": "red",
          "size": 8
         },
         "mode": "markers",
         "name": "Observed points",
         "showlegend": true,
         "visible": true,
         "x": [
          0.0,
          0.30000001192092896,
          1.0,
          3.0999999046325684,
          4.699999809265137
         ],
         "y": [
          1.0,
          0.0,
          1.399999976158142,
          0.0,
          -0.8999999761581421
         ],
         "type": "scatter"
        }
       ],
       "layout": {
        "template": {
         "data": {
          "histogram2dcontour": [
           {
            "type": "histogram2dcontour",
            "colorbar": {
             "outlinewidth": 0,
             "ticks": ""
            },
            "colorscale": [
             [
              0.0,
              "#0d0887"
             ],
             [
              0.1111111111111111,
              "#46039f"
             ],
             [
              0.2222222222222222,
              "#7201a8"
             ],
             [
              0.3333333333333333,
              "#9c179e"
             ],
             [
              0.4444444444444444,
              "#bd3786"
             ],
             [
              0.5555555555555556,
              "#d8576b"
             ],
             [
              0.6666666666666666,
              "#ed7953"
             ],
             [
              0.7777777777777778,
              "#fb9f3a"
             ],
             [
              0.8888888888888888,
              "#fdca26"
             ],
             [
              1.0,
              "#f0f921"
             ]
            ]
           }
          ],
          "choropleth": [
           {
            "type": "choropleth",
            "colorbar": {
             "outlinewidth": 0,
             "ticks": ""
            }
           }
          ],
          "histogram2d": [
           {
            "type": "histogram2d",
            "colorbar": {
             "outlinewidth": 0,
             "ticks": ""
            },
            "colorscale": [
             [
              0.0,
              "#0d0887"
             ],
             [
              0.1111111111111111,
              "#46039f"
             ],
             [
              0.2222222222222222,
              "#7201a8"
             ],
             [
              0.3333333333333333,
              "#9c179e"
             ],
             [
              0.4444444444444444,
              "#bd3786"
             ],
             [
              0.5555555555555556,
              "#d8576b"
             ],
             [
              0.6666666666666666,
              "#ed7953"
             ],
             [
              0.7777777777777778,
              "#fb9f3a"
             ],
             [
              0.8888888888888888,
              "#fdca26"
             ],
             [
              1.0,
              "#f0f921"
             ]
            ]
           }
          ],
          "heatmap": [
           {
            "type": "heatmap",
            "colorbar": {
             "outlinewidth": 0,
             "ticks": ""
            },
            "colorscale": [
             [
              0.0,
              "#0d0887"
             ],
             [
              0.1111111111111111,
              "#46039f"
             ],
             [
              0.2222222222222222,
              "#7201a8"
             ],
             [
              0.3333333333333333,
              "#9c179e"
             ],
             [
              0.4444444444444444,
              "#bd3786"
             ],
             [
              0.5555555555555556,
              "#d8576b"
             ],
             [
              0.6666666666666666,
              "#ed7953"
             ],
             [
              0.7777777777777778,
              "#fb9f3a"
             ],
             [
              0.8888888888888888,
              "#fdca26"
             ],
             [
              1.0,
              "#f0f921"
             ]
            ]
           }
          ],
          "heatmapgl": [
           {
            "type": "heatmapgl",
            "colorbar": {
             "outlinewidth": 0,
             "ticks": ""
            },
            "colorscale": [
             [
              0.0,
              "#0d0887"
             ],
             [
              0.1111111111111111,
              "#46039f"
             ],
             [
              0.2222222222222222,
              "#7201a8"
             ],
             [
              0.3333333333333333,
              "#9c179e"
             ],
             [
              0.4444444444444444,
              "#bd3786"
             ],
             [
              0.5555555555555556,
              "#d8576b"
             ],
             [
              0.6666666666666666,
              "#ed7953"
             ],
             [
              0.7777777777777778,
              "#fb9f3a"
             ],
             [
              0.8888888888888888,
              "#fdca26"
             ],
             [
              1.0,
              "#f0f921"
             ]
            ]
           }
          ],
          "contourcarpet": [
           {
            "type": "contourcarpet",
            "colorbar": {
             "outlinewidth": 0,
             "ticks": ""
            }
           }
          ],
          "contour": [
           {
            "type": "contour",
            "colorbar": {
             "outlinewidth": 0,
             "ticks": ""
            },
            "colorscale": [
             [
              0.0,
              "#0d0887"
             ],
             [
              0.1111111111111111,
              "#46039f"
             ],
             [
              0.2222222222222222,
              "#7201a8"
             ],
             [
              0.3333333333333333,
              "#9c179e"
             ],
             [
              0.4444444444444444,
              "#bd3786"
             ],
             [
              0.5555555555555556,
              "#d8576b"
             ],
             [
              0.6666666666666666,
              "#ed7953"
             ],
             [
              0.7777777777777778,
              "#fb9f3a"
             ],
             [
              0.8888888888888888,
              "#fdca26"
             ],
             [
              1.0,
              "#f0f921"
             ]
            ]
           }
          ],
          "surface": [
           {
            "type": "surface",
            "colorbar": {
             "outlinewidth": 0,
             "ticks": ""
            },
            "colorscale": [
             [
              0.0,
              "#0d0887"
             ],
             [
              0.1111111111111111,
              "#46039f"
             ],
             [
              0.2222222222222222,
              "#7201a8"
             ],
             [
              0.3333333333333333,
              "#9c179e"
             ],
             [
              0.4444444444444444,
              "#bd3786"
             ],
             [
              0.5555555555555556,
              "#d8576b"
             ],
             [
              0.6666666666666666,
              "#ed7953"
             ],
             [
              0.7777777777777778,
              "#fb9f3a"
             ],
             [
              0.8888888888888888,
              "#fdca26"
             ],
             [
              1.0,
              "#f0f921"
             ]
            ]
           }
          ],
          "mesh3d": [
           {
            "type": "mesh3d",
            "colorbar": {
             "outlinewidth": 0,
             "ticks": ""
            }
           }
          ],
          "scatter": [
           {
            "fillpattern": {
             "fillmode": "overlay",
             "size": 10,
             "solidity": 0.2
            },
            "type": "scatter"
           }
          ],
          "parcoords": [
           {
            "type": "parcoords",
            "line": {
             "colorbar": {
              "outlinewidth": 0,
              "ticks": ""
             }
            }
           }
          ],
          "scatterpolargl": [
           {
            "type": "scatterpolargl",
            "marker": {
             "colorbar": {
              "outlinewidth": 0,
              "ticks": ""
             }
            }
           }
          ],
          "bar": [
           {
            "error_x": {
             "color": "#2a3f5f"
            },
            "error_y": {
             "color": "#2a3f5f"
            },
            "marker": {
             "line": {
              "color": "#E5ECF6",
              "width": 0.5
             },
             "pattern": {
              "fillmode": "overlay",
              "size": 10,
              "solidity": 0.2
             }
            },
            "type": "bar"
           }
          ],
          "scattergeo": [
           {
            "type": "scattergeo",
            "marker": {
             "colorbar": {
              "outlinewidth": 0,
              "ticks": ""
             }
            }
           }
          ],
          "scatterpolar": [
           {
            "type": "scatterpolar",
            "marker": {
             "colorbar": {
              "outlinewidth": 0,
              "ticks": ""
             }
            }
           }
          ],
          "histogram": [
           {
            "marker": {
             "pattern": {
              "fillmode": "overlay",
              "size": 10,
              "solidity": 0.2
             }
            },
            "type": "histogram"
           }
          ],
          "scattergl": [
           {
            "type": "scattergl",
            "marker": {
             "colorbar": {
              "outlinewidth": 0,
              "ticks": ""
             }
            }
           }
          ],
          "scatter3d": [
           {
            "type": "scatter3d",
            "line": {
             "colorbar": {
              "outlinewidth": 0,
              "ticks": ""
             }
            },
            "marker": {
             "colorbar": {
              "outlinewidth": 0,
              "ticks": ""
             }
            }
           }
          ],
          "scattermapbox": [
           {
            "type": "scattermapbox",
            "marker": {
             "colorbar": {
              "outlinewidth": 0,
              "ticks": ""
             }
            }
           }
          ],
          "scatterternary": [
           {
            "type": "scatterternary",
            "marker": {
             "colorbar": {
              "outlinewidth": 0,
              "ticks": ""
             }
            }
           }
          ],
          "scattercarpet": [
           {
            "type": "scattercarpet",
            "marker": {
             "colorbar": {
              "outlinewidth": 0,
              "ticks": ""
             }
            }
           }
          ],
          "carpet": [
           {
            "aaxis": {
             "endlinecolor": "#2a3f5f",
             "gridcolor": "white",
             "linecolor": "white",
             "minorgridcolor": "white",
             "startlinecolor": "#2a3f5f"
            },
            "baxis": {
             "endlinecolor": "#2a3f5f",
             "gridcolor": "white",
             "linecolor": "white",
             "minorgridcolor": "white",
             "startlinecolor": "#2a3f5f"
            },
            "type": "carpet"
           }
          ],
          "table": [
           {
            "cells": {
             "fill": {
              "color": "#EBF0F8"
             },
             "line": {
              "color": "white"
             }
            },
            "header": {
             "fill": {
              "color": "#C8D4E3"
             },
             "line": {
              "color": "white"
             }
            },
            "type": "table"
           }
          ],
          "barpolar": [
           {
            "marker": {
             "line": {
              "color": "#E5ECF6",
              "width": 0.5
             },
             "pattern": {
              "fillmode": "overlay",
              "size": 10,
              "solidity": 0.2
             }
            },
            "type": "barpolar"
           }
          ],
          "pie": [
           {
            "automargin": true,
            "type": "pie"
           }
          ]
         },
         "layout": {
          "autotypenumbers": "strict",
          "colorway": [
           "#636efa",
           "#EF553B",
           "#00cc96",
           "#ab63fa",
           "#FFA15A",
           "#19d3f3",
           "#FF6692",
           "#B6E880",
           "#FF97FF",
           "#FECB52"
          ],
          "font": {
           "color": "#2a3f5f"
          },
          "hovermode": "closest",
          "hoverlabel": {
           "align": "left"
          },
          "paper_bgcolor": "white",
          "plot_bgcolor": "#E5ECF6",
          "polar": {
           "bgcolor": "#E5ECF6",
           "angularaxis": {
            "gridcolor": "white",
            "linecolor": "white",
            "ticks": ""
           },
           "radialaxis": {
            "gridcolor": "white",
            "linecolor": "white",
            "ticks": ""
           }
          },
          "ternary": {
           "bgcolor": "#E5ECF6",
           "aaxis": {
            "gridcolor": "white",
            "linecolor": "white",
            "ticks": ""
           },
           "baxis": {
            "gridcolor": "white",
            "linecolor": "white",
            "ticks": ""
           },
           "caxis": {
            "gridcolor": "white",
            "linecolor": "white",
            "ticks": ""
           }
          },
          "coloraxis": {
           "colorbar": {
            "outlinewidth": 0,
            "ticks": ""
           }
          },
          "colorscale": {
           "sequential": [
            [
             0.0,
             "#0d0887"
            ],
            [
             0.1111111111111111,
             "#46039f"
            ],
            [
             0.2222222222222222,
             "#7201a8"
            ],
            [
             0.3333333333333333,
             "#9c179e"
            ],
            [
             0.4444444444444444,
             "#bd3786"
            ],
            [
             0.5555555555555556,
             "#d8576b"
            ],
            [
             0.6666666666666666,
             "#ed7953"
            ],
            [
             0.7777777777777778,
             "#fb9f3a"
            ],
            [
             0.8888888888888888,
             "#fdca26"
            ],
            [
             1.0,
             "#f0f921"
            ]
           ],
           "sequentialminus": [
            [
             0.0,
             "#0d0887"
            ],
            [
             0.1111111111111111,
             "#46039f"
            ],
            [
             0.2222222222222222,
             "#7201a8"
            ],
            [
             0.3333333333333333,
             "#9c179e"
            ],
            [
             0.4444444444444444,
             "#bd3786"
            ],
            [
             0.5555555555555556,
             "#d8576b"
            ],
            [
             0.6666666666666666,
             "#ed7953"
            ],
            [
             0.7777777777777778,
             "#fb9f3a"
            ],
            [
             0.8888888888888888,
             "#fdca26"
            ],
            [
             1.0,
             "#f0f921"
            ]
           ],
           "diverging": [
            [
             0,
             "#8e0152"
            ],
            [
             0.1,
             "#c51b7d"
            ],
            [
             0.2,
             "#de77ae"
            ],
            [
             0.3,
             "#f1b6da"
            ],
            [
             0.4,
             "#fde0ef"
            ],
            [
             0.5,
             "#f7f7f7"
            ],
            [
             0.6,
             "#e6f5d0"
            ],
            [
             0.7,
             "#b8e186"
            ],
            [
             0.8,
             "#7fbc41"
            ],
            [
             0.9,
             "#4d9221"
            ],
            [
             1,
             "#276419"
            ]
           ]
          },
          "xaxis": {
           "gridcolor": "white",
           "linecolor": "white",
           "ticks": "",
           "title": {
            "standoff": 15
           },
           "zerolinecolor": "white",
           "automargin": true,
           "zerolinewidth": 2
          },
          "yaxis": {
           "gridcolor": "white",
           "linecolor": "white",
           "ticks": "",
           "title": {
            "standoff": 15
           },
           "zerolinecolor": "white",
           "automargin": true,
           "zerolinewidth": 2
          },
          "scene": {
           "xaxis": {
            "backgroundcolor": "#E5ECF6",
            "gridcolor": "white",
            "linecolor": "white",
            "showbackground": true,
            "ticks": "",
            "zerolinecolor": "white",
            "gridwidth": 2
           },
           "yaxis": {
            "backgroundcolor": "#E5ECF6",
            "gridcolor": "white",
            "linecolor": "white",
            "showbackground": true,
            "ticks": "",
            "zerolinecolor": "white",
            "gridwidth": 2
           },
           "zaxis": {
            "backgroundcolor": "#E5ECF6",
            "gridcolor": "white",
            "linecolor": "white",
            "showbackground": true,
            "ticks": "",
            "zerolinecolor": "white",
            "gridwidth": 2
           }
          },
          "shapedefaults": {
           "line": {
            "color": "#2a3f5f"
           }
          },
          "annotationdefaults": {
           "arrowcolor": "#2a3f5f",
           "arrowhead": 0,
           "arrowwidth": 1
          },
          "geo": {
           "bgcolor": "white",
           "landcolor": "#E5ECF6",
           "subunitcolor": "white",
           "showland": true,
           "showlakes": true,
           "lakecolor": "white"
          },
          "title": {
           "x": 0.05
          },
          "mapbox": {
           "style": "light"
          }
         }
        },
        "width": 800,
        "height": 600,
        "autosize": false,
        "plot_bgcolor": "rgba(0,0,0,0)",
        "title": {
         "text": "GPR with length 1, sigma 0 and noise 0",
         "x": 0.5,
         "xanchor": "center"
        },
        "legend": {
         "yanchor": "top",
         "y": 0.9,
         "xanchor": "right",
         "x": 0.95
        },
        "xaxis": {
         "title": {
          "text": "input values"
         },
         "showline": true,
         "linewidth": 1,
         "linecolor": "black"
        },
        "yaxis": {
         "title": {
          "text": "output values"
         },
         "showline": true,
         "linewidth": 1,
         "linecolor": "black"
        }
       },
       "config": {
        "plotlyServerURL": "https://plot.ly"
       }
      },
      "text/html": "<div>                            <div id=\"005fb408-e0f0-44cc-b993-1a0e91872643\" class=\"plotly-graph-div\" style=\"height:600px; width:800px;\"></div>            <script type=\"text/javascript\">                require([\"plotly\"], function(Plotly) {                    window.PLOTLYENV=window.PLOTLYENV || {};                                    if (document.getElementById(\"005fb408-e0f0-44cc-b993-1a0e91872643\")) {                    Plotly.newPlot(                        \"005fb408-e0f0-44cc-b993-1a0e91872643\",                        [{\"fill\":\"toself\",\"fillcolor\":\"rgba(189,195,199,0.5)\",\"hoverinfo\":\"skip\",\"line\":{\"color\":\"rgba(200,200,200,0)\"},\"name\":\"mean plus/minus 1*standard deviation\",\"showlegend\":true,\"visible\":true,\"x\":[-1.0,-0.8999999761581421,-0.7999999523162842,-0.6999999284744263,-0.5999999046325684,-0.49999988079071045,-0.39999985694885254,-0.29999983310699463,-0.19999980926513672,-0.09999978542327881,2.384185791015625e-07,0.10000026226043701,0.20000028610229492,0.30000030994415283,0.40000033378601074,0.5000003576278687,0.6000003814697266,0.7000004053115845,0.8000004291534424,0.9000004529953003,1.0000004768371582,1.1000003814697266,1.200000524520874,1.3000006675720215,1.4000005722045898,1.5000004768371582,1.6000006198883057,1.7000007629394531,1.8000006675720215,1.9000005722045898,2.0000007152557373,2.1000008583068848,2.200000762939453,2.3000006675720215,2.400000810623169,2.5000009536743164,2.6000008583068848,2.700000762939453,2.8000009059906006,2.900001049041748,3.0000009536743164,3.1000008583068848,3.200000762939453,3.3000011444091797,3.400001049041748,3.5000009536743164,3.600001335144043,3.7000012397766113,3.8000011444091797,3.900001049041748,4.000000953674316,4.100001335144043,4.200001239776611,4.30000114440918,4.400001525878906,4.500001430511475,4.600001335144043,4.700001239776611,4.80000114440918,4.900001525878906,5.000001430511475,5.100001335144043,5.2000017166137695,5.300001621246338,5.400001525878906,5.500001430511475,5.600001335144043,5.7000017166137695,5.800001621246338,5.900001525878906,6.000001907348633,6.100001811981201,6.2000017166137695,6.300001621246338,6.400001525878906,6.500001907348633,6.600001811981201,6.7000017166137695,6.800002098083496,6.9000020027160645,6.9000020027160645,6.800002098083496,6.7000017166137695,6.600001811981201,6.500001907348633,6.400001525878906,6.300001621246338,6.2000017166137695,6.100001811981201,6.000001907348633,5.900001525878906,5.800001621246338,5.7000017166137695,5.600001335144043,5.500001430511475,5.400001525878906,5.300001621246338,5.2000017166137695,5.100001335144043,5.000001430511475,4.900001525878906,4.80000114440918,4.700001239776611,4.600001335144043,4.500001430511475,4.400001525878906,4.30000114440918,4.200001239776611,4.100001335144043,4.000000953674316,3.900001049041748,3.8000011444091797,3.7000012397766113,3.600001335144043,3.5000009536743164,3.400001049041748,3.3000011444091797,3.200000762939453,3.1000008583068848,3.0000009536743164,2.900001049041748,2.8000009059906006,2.700000762939453,2.6000008583068848,2.5000009536743164,2.400000810623169,2.3000006675720215,2.200000762939453,2.1000008583068848,2.0000007152557373,1.9000005722045898,1.8000006675720215,1.7000007629394531,1.6000006198883057,1.5000004768371582,1.4000005722045898,1.3000006675720215,1.200000524520874,1.1000003814697266,1.0000004768371582,0.9000004529953003,0.8000004291534424,0.7000004053115845,0.6000003814697266,0.5000003576278687,0.40000033378601074,0.30000030994415283,0.20000028610229492,0.10000026226043701,2.384185791015625e-07,-0.09999978542327881,-0.19999980926513672,-0.29999983310699463,-0.39999985694885254,-0.49999988079071045,-0.5999999046325684,-0.6999999284744263,-0.7999999523162842,-0.8999999761581421,-1.0],\"y\":[1.1788870096206665,1.3570294380187988,1.5565049648284912,1.757209062576294,1.9303021430969238,2.0417561531066895,2.058711528778076,1.9576555490493774,1.7324707508087158,1.3998762369155884,1.0007505416870117,0.6590869426727295,0.3029939830303192,0.0007562229875475168,-0.08473864942789078,-0.006561487913131714,0.21281087398529053,0.5255100131034851,0.868563175201416,1.177656650543213,1.4007731676101685,1.7236452102661133,1.9377403259277344,2.030852794647217,2.011854887008667,1.9043166637420654,1.739201545715332,1.5478401184082031,1.356595516204834,1.183871865272522,1.0393892526626587,0.9251478910446167,0.8373046517372131,0.7682839632034302,0.708705723285675,0.6489948034286499,0.5807009935379028,0.497568279504776,0.3963182270526886,0.2770310938358307,0.14299911260604858,0.0007537637138739228,0.1350298970937729,0.2585262358188629,0.36180391907691956,0.43789196014404297,0.4819461405277252,0.4911711812019348,0.4644058346748352,0.40164822340011597,0.3038431704044342,0.17312893271446228,0.013493716716766357,-0.16849660873413086,-0.36334848403930664,-0.5590263605117798,-0.7421830296516418,-0.8992456793785095,-0.742182731628418,-0.558937132358551,-0.3629764914512634,-0.16739636659622192,0.016296088695526123,0.17959484457969666,0.3176261782646179,0.4289849102497101,0.5150082111358643,0.5787966251373291,0.6242744326591492,0.6554694771766663,0.6760536432266235,0.6891103982925415,0.6970650553703308,0.7017158269882202,0.7043237090110779,0.7057257294654846,0.7064481973648071,0.7068050503730774,0.7069740295410156,0.7070507407188416,-0.7071632742881775,-0.7072399854660034,-0.7074088454246521,-0.7077654600143433,-0.7084866166114807,-0.7098835110664368,-0.7124729156494141,-0.7170616984367371,-0.7248251438140869,-0.7373403310775757,-0.7565144896507263,-0.7843372225761414,-0.8224061727523804,-0.8712354898452759,-0.929465651512146,-0.993204653263092,-1.0557730197906494,-1.1080811023712158,-1.1397080421447754,-1.1405487060546875,-1.1027088165283203,-1.022200584411621,-0.9007533192634583,-1.0221221446990967,-1.1024413108825684,-1.1398502588272095,-1.138056755065918,-1.1044001579284668,-1.047964096069336,-0.9774523973464966,-0.8993588089942932,-0.8168906569480896,-0.7299241423606873,-0.6359515190124512,-0.5316722989082336,-0.41470399498939514,-0.2848956882953644,-0.1449158638715744,-0.0007538448553532362,-0.13701221346855164,-0.2667326033115387,-0.38124480843544006,-0.47472724318504333,-0.5436320304870605,-0.5862408876419067,-0.6017323136329651,-0.5890544652938843,-0.5459871888160706,-0.46875956654548645,-0.35249313712120056,-0.19256725907325745,0.013198554515838623,0.26187998056411743,0.5428940653800964,0.836395800113678,1.113561749458313,1.3394768238067627,1.4787628650665283,1.5032382011413574,1.3992265462875366,1.0004587173461914,0.5776724815368652,0.19479291141033173,-0.08686676621437073,-0.22123567759990692,-0.1884205937385559,-0.0007513855816796422,0.23810485005378723,0.5909712314605713,0.999242901802063,1.2650724649429321,1.4128437042236328,1.4269367456436157,1.315629482269287,1.1060166358947754,0.8352311253547668,0.541456937789917,0.25693875551223755,0.004128575325012207,-0.20506152510643005],\"type\":\"scatter\"},{\"fill\":\"toself\",\"fillcolor\":\"rgba(189,195,199,0.5)\",\"hoverinfo\":\"skip\",\"line\":{\"color\":\"rgba(200,200,200,0)\"},\"name\":\"mean plus/minus 2*standard deviation\",\"showlegend\":true,\"visible\":true,\"x\":[-1.0,-0.8999999761581421,-0.7999999523162842,-0.6999999284744263,-0.5999999046325684,-0.49999988079071045,-0.39999985694885254,-0.29999983310699463,-0.19999980926513672,-0.09999978542327881,2.384185791015625e-07,0.10000026226043701,0.20000028610229492,0.30000030994415283,0.40000033378601074,0.5000003576278687,0.6000003814697266,0.7000004053115845,0.8000004291534424,0.9000004529953003,1.0000004768371582,1.1000003814697266,1.200000524520874,1.3000006675720215,1.4000005722045898,1.5000004768371582,1.6000006198883057,1.7000007629394531,1.8000006675720215,1.9000005722045898,2.0000007152557373,2.1000008583068848,2.200000762939453,2.3000006675720215,2.400000810623169,2.5000009536743164,2.6000008583068848,2.700000762939453,2.8000009059906006,2.900001049041748,3.0000009536743164,3.1000008583068848,3.200000762939453,3.3000011444091797,3.400001049041748,3.5000009536743164,3.600001335144043,3.7000012397766113,3.8000011444091797,3.900001049041748,4.000000953674316,4.100001335144043,4.200001239776611,4.30000114440918,4.400001525878906,4.500001430511475,4.600001335144043,4.700001239776611,4.80000114440918,4.900001525878906,5.000001430511475,5.100001335144043,5.2000017166137695,5.300001621246338,5.400001525878906,5.500001430511475,5.600001335144043,5.7000017166137695,5.800001621246338,5.900001525878906,6.000001907348633,6.100001811981201,6.2000017166137695,6.300001621246338,6.400001525878906,6.500001907348633,6.600001811981201,6.7000017166137695,6.800002098083496,6.9000020027160645,6.9000020027160645,6.800002098083496,6.7000017166137695,6.600001811981201,6.500001907348633,6.400001525878906,6.300001621246338,6.2000017166137695,6.100001811981201,6.000001907348633,5.900001525878906,5.800001621246338,5.7000017166137695,5.600001335144043,5.500001430511475,5.400001525878906,5.300001621246338,5.2000017166137695,5.100001335144043,5.000001430511475,4.900001525878906,4.80000114440918,4.700001239776611,4.600001335144043,4.500001430511475,4.400001525878906,4.30000114440918,4.200001239776611,4.100001335144043,4.000000953674316,3.900001049041748,3.8000011444091797,3.7000012397766113,3.600001335144043,3.5000009536743164,3.400001049041748,3.3000011444091797,3.200000762939453,3.1000008583068848,3.0000009536743164,2.900001049041748,2.8000009059906006,2.700000762939453,2.6000008583068848,2.5000009536743164,2.400000810623169,2.3000006675720215,2.200000762939453,2.1000008583068848,2.0000007152557373,1.9000005722045898,1.8000006675720215,1.7000007629394531,1.6000006198883057,1.5000004768371582,1.4000005722045898,1.3000006675720215,1.200000524520874,1.1000003814697266,1.0000004768371582,0.9000004529953003,0.8000004291534424,0.7000004053115845,0.6000003814697266,0.5000003576278687,0.40000033378601074,0.30000030994415283,0.20000028610229492,0.10000026226043701,2.384185791015625e-07,-0.09999978542327881,-0.19999980926513672,-0.29999983310699463,-0.39999985694885254,-0.49999988079071045,-0.5999999046325684,-0.6999999284744263,-0.7999999523162842,-0.8999999761581421,-1.0],\"y\":[1.870861291885376,2.033479928970337,2.2062880992889404,2.3650851249694824,2.477837562561035,2.5096259117126465,2.4302525520324707,2.2230148315429688,1.8922841548919678,1.467278003692627,1.0015043020248413,0.6931447982788086,0.3354385495185852,0.0015100273303687572,-0.03289768099784851,0.10077560693025589,0.36264967918395996,0.690868616104126,1.0140085220336914,1.2662557363510132,1.4015464782714844,1.8338487148284912,2.167229175567627,2.3765406608581543,2.461001396179199,2.438277006149292,2.337355375289917,2.1908202171325684,2.028294086456299,1.8720914125442505,1.7353304624557495,1.6221015453338623,1.528950572013855,1.4469531774520874,1.3639247417449951,1.2666126489639282,1.1428675651550293,0.9837160706520081,0.7850997447967529,0.5489129424095154,0.2830047905445099,0.0015075679402798414,0.27500277757644653,0.5302371978759766,0.7500578761100769,0.9226740598678589,1.0408949851989746,1.1017189025878906,1.1050541400909424,1.0521516799926758,0.944490909576416,0.7836754322052002,0.5724406838417053,0.3162834644317627,0.024902403354644775,-0.2873188257217407,-0.6022135019302368,-0.8984919190406799,-0.6021737456321716,-0.28705132007598877,0.02580958604812622,0.3187594413757324,0.5784847140312195,0.7972787618637085,0.9730415940284729,1.1082102060317993,1.208130121231079,1.279397964477539,1.3285802602767944,1.3614614009857178,1.3827506303787231,1.3960782289505005,1.4041284322738647,1.4088102579116821,1.4114272594451904,1.4128319025039673,1.4135550260543823,1.4139119386672974,1.41408109664917,1.414157748222351,-1.414270281791687,-1.4143469333648682,-1.4145158529281616,-1.4148722887039185,-1.4155927896499634,-1.4169871807098389,-1.4195672273635864,-1.424125075340271,-1.4317928552627563,-1.4440373182296753,-1.4625065326690674,-1.4886430501937866,-1.5230076313018799,-1.5643572807312012,-1.608690857887268,-1.6486201286315918,-1.6734570264816284,-1.6702697277069092,-1.625863790512085,-1.5293347835540771,-1.3745945692062378,-1.1622095108032227,-0.9015070796012878,-1.1620917320251465,-1.3741488456726074,-1.5281012058258057,-1.6228368282318115,-1.6633472442626953,-1.658510684967041,-1.6181001663208008,-1.5498623847961426,-1.4575388431549072,-1.3404717445373535,-1.1949002742767334,-1.0164544582366943,-0.8029579520225525,-0.556606650352478,-0.28488874435424805,-0.0015076491981744766,-0.27701786160469055,-0.5386144518852234,-0.7700263261795044,-0.9608749747276306,-1.1057984828948975,-1.203858733177185,-1.2569513320922852,-1.2677236795425415,-1.2376331090927124,-1.1657133102416992,-1.0484343767166138,-0.8807867765426636,-0.6584999561309814,-0.3811001181602478,-0.05525970458984375,0.30243539810180664,0.664415180683136,0.9937888383865356,1.2492740154266357,1.3930346965789795,1.3984532356262207,0.9118596315383911,0.43222716450691223,0.02943435311317444,-0.23670558631420135,-0.3285727798938751,-0.24026155471801758,-0.0015051898080855608,0.20566028356552124,0.5569133758544922,0.9984891414642334,1.1976706981658936,1.2530303001403809,1.1615773439407349,0.944088339805603,0.6381468176841736,0.28769564628601074,-0.06641912460327148,-0.39284437894821167,-0.6723218560218811,-0.8970358371734619],\"type\":\"scatter\"},{\"fill\":\"toself\",\"fillcolor\":\"rgba(189,195,199,0.5)\",\"hoverinfo\":\"skip\",\"line\":{\"color\":\"rgba(200,200,200,0)\"},\"name\":\"mean plus/minus 3*standard deviation\",\"showlegend\":true,\"visible\":true,\"x\":[-1.0,-0.8999999761581421,-0.7999999523162842,-0.6999999284744263,-0.5999999046325684,-0.49999988079071045,-0.39999985694885254,-0.29999983310699463,-0.19999980926513672,-0.09999978542327881,2.384185791015625e-07,0.10000026226043701,0.20000028610229492,0.30000030994415283,0.40000033378601074,0.5000003576278687,0.6000003814697266,0.7000004053115845,0.8000004291534424,0.9000004529953003,1.0000004768371582,1.1000003814697266,1.200000524520874,1.3000006675720215,1.4000005722045898,1.5000004768371582,1.6000006198883057,1.7000007629394531,1.8000006675720215,1.9000005722045898,2.0000007152557373,2.1000008583068848,2.200000762939453,2.3000006675720215,2.400000810623169,2.5000009536743164,2.6000008583068848,2.700000762939453,2.8000009059906006,2.900001049041748,3.0000009536743164,3.1000008583068848,3.200000762939453,3.3000011444091797,3.400001049041748,3.5000009536743164,3.600001335144043,3.7000012397766113,3.8000011444091797,3.900001049041748,4.000000953674316,4.100001335144043,4.200001239776611,4.30000114440918,4.400001525878906,4.500001430511475,4.600001335144043,4.700001239776611,4.80000114440918,4.900001525878906,5.000001430511475,5.100001335144043,5.2000017166137695,5.300001621246338,5.400001525878906,5.500001430511475,5.600001335144043,5.7000017166137695,5.800001621246338,5.900001525878906,6.000001907348633,6.100001811981201,6.2000017166137695,6.300001621246338,6.400001525878906,6.500001907348633,6.600001811981201,6.7000017166137695,6.800002098083496,6.9000020027160645,6.9000020027160645,6.800002098083496,6.7000017166137695,6.600001811981201,6.500001907348633,6.400001525878906,6.300001621246338,6.2000017166137695,6.100001811981201,6.000001907348633,5.900001525878906,5.800001621246338,5.7000017166137695,5.600001335144043,5.500001430511475,5.400001525878906,5.300001621246338,5.2000017166137695,5.100001335144043,5.000001430511475,4.900001525878906,4.80000114440918,4.700001239776611,4.600001335144043,4.500001430511475,4.400001525878906,4.30000114440918,4.200001239776611,4.100001335144043,4.000000953674316,3.900001049041748,3.8000011444091797,3.7000012397766113,3.600001335144043,3.5000009536743164,3.400001049041748,3.3000011444091797,3.200000762939453,3.1000008583068848,3.0000009536743164,2.900001049041748,2.8000009059906006,2.700000762939453,2.6000008583068848,2.5000009536743164,2.400000810623169,2.3000006675720215,2.200000762939453,2.1000008583068848,2.0000007152557373,1.9000005722045898,1.8000006675720215,1.7000007629394531,1.6000006198883057,1.5000004768371582,1.4000005722045898,1.3000006675720215,1.200000524520874,1.1000003814697266,1.0000004768371582,0.9000004529953003,0.8000004291534424,0.7000004053115845,0.6000003814697266,0.5000003576278687,0.40000033378601074,0.30000030994415283,0.20000028610229492,0.10000026226043701,2.384185791015625e-07,-0.09999978542327881,-0.19999980926513672,-0.29999983310699463,-0.39999985694885254,-0.49999988079071045,-0.5999999046325684,-0.6999999284744263,-0.7999999523162842,-0.8999999761581421,-1.0],\"y\":[2.562835693359375,2.709930181503296,2.8560712337493896,2.972961187362671,3.0253729820251465,2.9774956703186035,2.8017938137054443,2.4883742332458496,2.052097797393799,1.534679889678955,1.0022581815719604,0.7272026538848877,0.3678831160068512,0.002263831440359354,0.018943294882774353,0.2081127166748047,0.5124885439872742,0.8562271595001221,1.1594538688659668,1.354854702949524,1.4023197889328003,1.9440521001815796,2.3967180252075195,2.722228765487671,2.9101479053497314,2.9722375869750977,2.935509204864502,2.8338003158569336,2.6999926567077637,2.5603108406066895,2.43127179145813,2.3190553188323975,2.2205965518951416,2.125622272491455,2.01914381980896,1.8842304944992065,1.7050341367721558,1.469863772392273,1.1738812923431396,0.8207948207855225,0.4230104684829712,0.002261372283101082,0.41497567296028137,0.8019481301307678,1.1383118629455566,1.4074562788009644,1.5998438596725464,1.712266445159912,1.7457022666931152,1.70265531539917,1.5851386785507202,1.3942219018936157,1.131387710571289,0.8010635375976562,0.41315335035324097,-0.015611350536346436,-0.462243914604187,-0.8977380990982056,-0.4621647894382477,-0.015165507793426514,0.41459566354751587,0.8049153089523315,1.1406733989715576,1.4149627685546875,1.6284570693969727,1.787435531616211,1.9012519121170044,1.9799994230270386,2.032886028289795,2.067453384399414,2.089447498321533,2.10304594039917,2.111191749572754,2.1159045696258545,2.118530750274658,2.1199381351470947,2.120661735534668,2.121018886566162,2.121187925338745,2.121264696121216,-2.1213772296905518,-2.1214540004730225,-2.1216225624084473,-2.121979236602783,-2.122699022293091,-2.1240906715393066,-2.126661539077759,-2.13118839263916,-2.138760566711426,-2.1507344245910645,-2.1684985160827637,-2.192948818206787,-2.22360897064209,-2.257479190826416,-2.2879161834716797,-2.3040354251861572,-2.2911410331726074,-2.2324583530426025,-2.1120195388793945,-1.9181208610534668,-1.6464803218841553,-1.3022185564041138,-0.9022608995437622,-1.3020613193511963,-1.6458563804626465,-1.9163520336151123,-2.107616901397705,-2.2222940921783447,-2.269057035446167,-2.2587478160858154,-2.2003657817840576,-2.098187208175659,-1.951019525527954,-1.7538491487503052,-1.5012365579605103,-1.1912119388580322,-0.8283175826072693,-0.4248616397380829,-0.0022614533081650734,-0.41702353954315186,-0.8104963302612305,-1.1588077545166016,-1.447022795677185,-1.667965054512024,-1.8214765787124634,-1.9121702909469604,-1.9463928937911987,-1.929279088973999,-1.8626669645309448,-1.7443755865097046,-1.569006323814392,-1.3301984071731567,-1.0240802764892578,-0.6534134149551392,-0.23152506351470947,0.21526861190795898,0.6481008529663086,1.0197852849960327,1.2828313112258911,1.3976799249649048,0.8232606649398804,0.28678184747695923,-0.13592422008514404,-0.386544406414032,-0.43590986728668213,-0.29210251569747925,-0.0022589941509068012,0.17321571707725525,0.5228555202484131,0.997735321521759,1.1302688121795654,1.0932167768478394,0.896217942237854,0.572547197341919,0.17027699947357178,-0.25983989238739014,-0.67429518699646,-1.0426275730133057,-1.3487722873687744,-1.589010238647461],\"type\":\"scatter\"},{\"line\":{\"color\":\"blue\",\"width\":2},\"name\":\"Predicted function\",\"showlegend\":true,\"visible\":true,\"x\":[-1.0,-0.8999999761581421,-0.7999999523162842,-0.6999999284744263,-0.5999999046325684,-0.49999988079071045,-0.39999985694885254,-0.29999983310699463,-0.19999980926513672,-0.09999978542327881,2.384185791015625e-07,0.10000026226043701,0.20000028610229492,0.30000030994415283,0.40000033378601074,0.5000003576278687,0.6000003814697266,0.7000004053115845,0.8000004291534424,0.9000004529953003,1.0000004768371582,1.1000003814697266,1.200000524520874,1.3000006675720215,1.4000005722045898,1.5000004768371582,1.6000006198883057,1.7000007629394531,1.8000006675720215,1.9000005722045898,2.0000007152557373,2.1000008583068848,2.200000762939453,2.3000006675720215,2.400000810623169,2.5000009536743164,2.6000008583068848,2.700000762939453,2.8000009059906006,2.900001049041748,3.0000009536743164,3.1000008583068848,3.200000762939453,3.3000011444091797,3.400001049041748,3.5000009536743164,3.600001335144043,3.7000012397766113,3.8000011444091797,3.900001049041748,4.000000953674316,4.100001335144043,4.200001239776611,4.30000114440918,4.400001525878906,4.500001430511475,4.600001335144043,4.700001239776611,4.80000114440918,4.900001525878906,5.000001430511475,5.100001335144043,5.2000017166137695,5.300001621246338,5.400001525878906,5.500001430511475,5.600001335144043,5.7000017166137695,5.800001621246338,5.900001525878906,6.000001907348633,6.100001811981201,6.2000017166137695,6.300001621246338,6.400001525878906,6.500001907348633,6.600001811981201,6.7000017166137695,6.800002098083496,6.9000020027160645],\"y\":[0.4869127571582794,0.6805790066719055,0.9067218899726868,1.1493330001831055,1.382766604423523,1.5738863945007324,1.6871705055236816,1.6922961473464966,1.5726572275161743,1.3324743509292603,0.9999967217445374,0.6250290870666504,0.2705494165420532,2.4187183953472413e-06,-0.13657961785793304,-0.11389858275651932,0.0629720538854599,0.360151469707489,0.7231178283691406,1.0890576839447021,1.3999998569488525,1.6134417057037354,1.7082515954971313,1.6851648092269897,1.5627082586288452,1.3703562021255493,1.1410478353500366,0.9048600792884827,0.6848970651626587,0.49565228819847107,0.34344807267189026,0.22819414734840393,0.1456587165594101,0.08961472660303116,0.05348672345280647,0.03137698397040367,0.018534498289227486,0.011420520953834057,0.007536712102591991,0.005149258300662041,0.0029934525955468416,-4.0578939319857454e-08,-0.004942976403981447,-0.013184716925024986,-0.02645004913210869,-0.046890176832675934,-0.07700268179178238,-0.11937648057937622,-0.1762424111366272,-0.24885529279708862,-0.33680459856987,-0.437417596578598,-0.5454532504081726,-0.6532766819000244,-0.7515993714332581,-0.8307338356971741,-0.8821526169776917,-0.8999994993209839,-0.8821916580200195,-0.8308229446411133,-0.7517625689506531,-0.6535521745681763,-0.5458925366401672,-0.4380891025066376,-0.33778923749923706,-0.25024035573005676,-0.17811362445354462,-0.12180478870868683,-0.08003141731023788,-0.050522517412900925,-0.030643373727798462,-0.01785736344754696,-0.00999830849468708,-0.005378532223403454,-0.002779901959002018,-0.0013804534683004022,-0.0006586336530745029,-0.00030192159465514123,-0.0001329753577010706,-5.627009886666201e-05],\"type\":\"scatter\"},{\"marker\":{\"color\":\"red\",\"size\":8},\"mode\":\"markers\",\"name\":\"Observed points\",\"showlegend\":true,\"visible\":true,\"x\":[0.0,0.30000001192092896,1.0,3.0999999046325684,4.699999809265137],\"y\":[1.0,0.0,1.399999976158142,0.0,-0.8999999761581421],\"type\":\"scatter\"}],                        {\"template\":{\"data\":{\"histogram2dcontour\":[{\"type\":\"histogram2dcontour\",\"colorbar\":{\"outlinewidth\":0,\"ticks\":\"\"},\"colorscale\":[[0.0,\"#0d0887\"],[0.1111111111111111,\"#46039f\"],[0.2222222222222222,\"#7201a8\"],[0.3333333333333333,\"#9c179e\"],[0.4444444444444444,\"#bd3786\"],[0.5555555555555556,\"#d8576b\"],[0.6666666666666666,\"#ed7953\"],[0.7777777777777778,\"#fb9f3a\"],[0.8888888888888888,\"#fdca26\"],[1.0,\"#f0f921\"]]}],\"choropleth\":[{\"type\":\"choropleth\",\"colorbar\":{\"outlinewidth\":0,\"ticks\":\"\"}}],\"histogram2d\":[{\"type\":\"histogram2d\",\"colorbar\":{\"outlinewidth\":0,\"ticks\":\"\"},\"colorscale\":[[0.0,\"#0d0887\"],[0.1111111111111111,\"#46039f\"],[0.2222222222222222,\"#7201a8\"],[0.3333333333333333,\"#9c179e\"],[0.4444444444444444,\"#bd3786\"],[0.5555555555555556,\"#d8576b\"],[0.6666666666666666,\"#ed7953\"],[0.7777777777777778,\"#fb9f3a\"],[0.8888888888888888,\"#fdca26\"],[1.0,\"#f0f921\"]]}],\"heatmap\":[{\"type\":\"heatmap\",\"colorbar\":{\"outlinewidth\":0,\"ticks\":\"\"},\"colorscale\":[[0.0,\"#0d0887\"],[0.1111111111111111,\"#46039f\"],[0.2222222222222222,\"#7201a8\"],[0.3333333333333333,\"#9c179e\"],[0.4444444444444444,\"#bd3786\"],[0.5555555555555556,\"#d8576b\"],[0.6666666666666666,\"#ed7953\"],[0.7777777777777778,\"#fb9f3a\"],[0.8888888888888888,\"#fdca26\"],[1.0,\"#f0f921\"]]}],\"heatmapgl\":[{\"type\":\"heatmapgl\",\"colorbar\":{\"outlinewidth\":0,\"ticks\":\"\"},\"colorscale\":[[0.0,\"#0d0887\"],[0.1111111111111111,\"#46039f\"],[0.2222222222222222,\"#7201a8\"],[0.3333333333333333,\"#9c179e\"],[0.4444444444444444,\"#bd3786\"],[0.5555555555555556,\"#d8576b\"],[0.6666666666666666,\"#ed7953\"],[0.7777777777777778,\"#fb9f3a\"],[0.8888888888888888,\"#fdca26\"],[1.0,\"#f0f921\"]]}],\"contourcarpet\":[{\"type\":\"contourcarpet\",\"colorbar\":{\"outlinewidth\":0,\"ticks\":\"\"}}],\"contour\":[{\"type\":\"contour\",\"colorbar\":{\"outlinewidth\":0,\"ticks\":\"\"},\"colorscale\":[[0.0,\"#0d0887\"],[0.1111111111111111,\"#46039f\"],[0.2222222222222222,\"#7201a8\"],[0.3333333333333333,\"#9c179e\"],[0.4444444444444444,\"#bd3786\"],[0.5555555555555556,\"#d8576b\"],[0.6666666666666666,\"#ed7953\"],[0.7777777777777778,\"#fb9f3a\"],[0.8888888888888888,\"#fdca26\"],[1.0,\"#f0f921\"]]}],\"surface\":[{\"type\":\"surface\",\"colorbar\":{\"outlinewidth\":0,\"ticks\":\"\"},\"colorscale\":[[0.0,\"#0d0887\"],[0.1111111111111111,\"#46039f\"],[0.2222222222222222,\"#7201a8\"],[0.3333333333333333,\"#9c179e\"],[0.4444444444444444,\"#bd3786\"],[0.5555555555555556,\"#d8576b\"],[0.6666666666666666,\"#ed7953\"],[0.7777777777777778,\"#fb9f3a\"],[0.8888888888888888,\"#fdca26\"],[1.0,\"#f0f921\"]]}],\"mesh3d\":[{\"type\":\"mesh3d\",\"colorbar\":{\"outlinewidth\":0,\"ticks\":\"\"}}],\"scatter\":[{\"fillpattern\":{\"fillmode\":\"overlay\",\"size\":10,\"solidity\":0.2},\"type\":\"scatter\"}],\"parcoords\":[{\"type\":\"parcoords\",\"line\":{\"colorbar\":{\"outlinewidth\":0,\"ticks\":\"\"}}}],\"scatterpolargl\":[{\"type\":\"scatterpolargl\",\"marker\":{\"colorbar\":{\"outlinewidth\":0,\"ticks\":\"\"}}}],\"bar\":[{\"error_x\":{\"color\":\"#2a3f5f\"},\"error_y\":{\"color\":\"#2a3f5f\"},\"marker\":{\"line\":{\"color\":\"#E5ECF6\",\"width\":0.5},\"pattern\":{\"fillmode\":\"overlay\",\"size\":10,\"solidity\":0.2}},\"type\":\"bar\"}],\"scattergeo\":[{\"type\":\"scattergeo\",\"marker\":{\"colorbar\":{\"outlinewidth\":0,\"ticks\":\"\"}}}],\"scatterpolar\":[{\"type\":\"scatterpolar\",\"marker\":{\"colorbar\":{\"outlinewidth\":0,\"ticks\":\"\"}}}],\"histogram\":[{\"marker\":{\"pattern\":{\"fillmode\":\"overlay\",\"size\":10,\"solidity\":0.2}},\"type\":\"histogram\"}],\"scattergl\":[{\"type\":\"scattergl\",\"marker\":{\"colorbar\":{\"outlinewidth\":0,\"ticks\":\"\"}}}],\"scatter3d\":[{\"type\":\"scatter3d\",\"line\":{\"colorbar\":{\"outlinewidth\":0,\"ticks\":\"\"}},\"marker\":{\"colorbar\":{\"outlinewidth\":0,\"ticks\":\"\"}}}],\"scattermapbox\":[{\"type\":\"scattermapbox\",\"marker\":{\"colorbar\":{\"outlinewidth\":0,\"ticks\":\"\"}}}],\"scatterternary\":[{\"type\":\"scatterternary\",\"marker\":{\"colorbar\":{\"outlinewidth\":0,\"ticks\":\"\"}}}],\"scattercarpet\":[{\"type\":\"scattercarpet\",\"marker\":{\"colorbar\":{\"outlinewidth\":0,\"ticks\":\"\"}}}],\"carpet\":[{\"aaxis\":{\"endlinecolor\":\"#2a3f5f\",\"gridcolor\":\"white\",\"linecolor\":\"white\",\"minorgridcolor\":\"white\",\"startlinecolor\":\"#2a3f5f\"},\"baxis\":{\"endlinecolor\":\"#2a3f5f\",\"gridcolor\":\"white\",\"linecolor\":\"white\",\"minorgridcolor\":\"white\",\"startlinecolor\":\"#2a3f5f\"},\"type\":\"carpet\"}],\"table\":[{\"cells\":{\"fill\":{\"color\":\"#EBF0F8\"},\"line\":{\"color\":\"white\"}},\"header\":{\"fill\":{\"color\":\"#C8D4E3\"},\"line\":{\"color\":\"white\"}},\"type\":\"table\"}],\"barpolar\":[{\"marker\":{\"line\":{\"color\":\"#E5ECF6\",\"width\":0.5},\"pattern\":{\"fillmode\":\"overlay\",\"size\":10,\"solidity\":0.2}},\"type\":\"barpolar\"}],\"pie\":[{\"automargin\":true,\"type\":\"pie\"}]},\"layout\":{\"autotypenumbers\":\"strict\",\"colorway\":[\"#636efa\",\"#EF553B\",\"#00cc96\",\"#ab63fa\",\"#FFA15A\",\"#19d3f3\",\"#FF6692\",\"#B6E880\",\"#FF97FF\",\"#FECB52\"],\"font\":{\"color\":\"#2a3f5f\"},\"hovermode\":\"closest\",\"hoverlabel\":{\"align\":\"left\"},\"paper_bgcolor\":\"white\",\"plot_bgcolor\":\"#E5ECF6\",\"polar\":{\"bgcolor\":\"#E5ECF6\",\"angularaxis\":{\"gridcolor\":\"white\",\"linecolor\":\"white\",\"ticks\":\"\"},\"radialaxis\":{\"gridcolor\":\"white\",\"linecolor\":\"white\",\"ticks\":\"\"}},\"ternary\":{\"bgcolor\":\"#E5ECF6\",\"aaxis\":{\"gridcolor\":\"white\",\"linecolor\":\"white\",\"ticks\":\"\"},\"baxis\":{\"gridcolor\":\"white\",\"linecolor\":\"white\",\"ticks\":\"\"},\"caxis\":{\"gridcolor\":\"white\",\"linecolor\":\"white\",\"ticks\":\"\"}},\"coloraxis\":{\"colorbar\":{\"outlinewidth\":0,\"ticks\":\"\"}},\"colorscale\":{\"sequential\":[[0.0,\"#0d0887\"],[0.1111111111111111,\"#46039f\"],[0.2222222222222222,\"#7201a8\"],[0.3333333333333333,\"#9c179e\"],[0.4444444444444444,\"#bd3786\"],[0.5555555555555556,\"#d8576b\"],[0.6666666666666666,\"#ed7953\"],[0.7777777777777778,\"#fb9f3a\"],[0.8888888888888888,\"#fdca26\"],[1.0,\"#f0f921\"]],\"sequentialminus\":[[0.0,\"#0d0887\"],[0.1111111111111111,\"#46039f\"],[0.2222222222222222,\"#7201a8\"],[0.3333333333333333,\"#9c179e\"],[0.4444444444444444,\"#bd3786\"],[0.5555555555555556,\"#d8576b\"],[0.6666666666666666,\"#ed7953\"],[0.7777777777777778,\"#fb9f3a\"],[0.8888888888888888,\"#fdca26\"],[1.0,\"#f0f921\"]],\"diverging\":[[0,\"#8e0152\"],[0.1,\"#c51b7d\"],[0.2,\"#de77ae\"],[0.3,\"#f1b6da\"],[0.4,\"#fde0ef\"],[0.5,\"#f7f7f7\"],[0.6,\"#e6f5d0\"],[0.7,\"#b8e186\"],[0.8,\"#7fbc41\"],[0.9,\"#4d9221\"],[1,\"#276419\"]]},\"xaxis\":{\"gridcolor\":\"white\",\"linecolor\":\"white\",\"ticks\":\"\",\"title\":{\"standoff\":15},\"zerolinecolor\":\"white\",\"automargin\":true,\"zerolinewidth\":2},\"yaxis\":{\"gridcolor\":\"white\",\"linecolor\":\"white\",\"ticks\":\"\",\"title\":{\"standoff\":15},\"zerolinecolor\":\"white\",\"automargin\":true,\"zerolinewidth\":2},\"scene\":{\"xaxis\":{\"backgroundcolor\":\"#E5ECF6\",\"gridcolor\":\"white\",\"linecolor\":\"white\",\"showbackground\":true,\"ticks\":\"\",\"zerolinecolor\":\"white\",\"gridwidth\":2},\"yaxis\":{\"backgroundcolor\":\"#E5ECF6\",\"gridcolor\":\"white\",\"linecolor\":\"white\",\"showbackground\":true,\"ticks\":\"\",\"zerolinecolor\":\"white\",\"gridwidth\":2},\"zaxis\":{\"backgroundcolor\":\"#E5ECF6\",\"gridcolor\":\"white\",\"linecolor\":\"white\",\"showbackground\":true,\"ticks\":\"\",\"zerolinecolor\":\"white\",\"gridwidth\":2}},\"shapedefaults\":{\"line\":{\"color\":\"#2a3f5f\"}},\"annotationdefaults\":{\"arrowcolor\":\"#2a3f5f\",\"arrowhead\":0,\"arrowwidth\":1},\"geo\":{\"bgcolor\":\"white\",\"landcolor\":\"#E5ECF6\",\"subunitcolor\":\"white\",\"showland\":true,\"showlakes\":true,\"lakecolor\":\"white\"},\"title\":{\"x\":0.05},\"mapbox\":{\"style\":\"light\"}}},\"width\":800,\"height\":600,\"autosize\":false,\"plot_bgcolor\":\"rgba(0,0,0,0)\",\"title\":{\"text\":\"GPR with length 1, sigma 0 and noise 0\",\"x\":0.5,\"xanchor\":\"center\"},\"legend\":{\"yanchor\":\"top\",\"y\":0.9,\"xanchor\":\"right\",\"x\":0.95},\"xaxis\":{\"title\":{\"text\":\"input values\"},\"showline\":true,\"linewidth\":1,\"linecolor\":\"black\"},\"yaxis\":{\"title\":{\"text\":\"output values\"},\"showline\":true,\"linewidth\":1,\"linecolor\":\"black\"}},                        {\"responsive\": true}                    ).then(function(){\n                            \nvar gd = document.getElementById('005fb408-e0f0-44cc-b993-1a0e91872643');\nvar x = new MutationObserver(function (mutations, observer) {{\n        var display = window.getComputedStyle(gd).display;\n        if (!display || display === 'none') {{\n            console.log([gd, 'removed!']);\n            Plotly.purge(gd);\n            observer.disconnect();\n        }}\n}});\n\n// Listen for the removal of the full notebook cells\nvar notebookContainer = gd.closest('#notebook-container');\nif (notebookContainer) {{\n    x.observe(notebookContainer, {childList: true});\n}}\n\n// Listen for the clearing of the current output cell\nvar outputEl = gd.closest('.output');\nif (outputEl) {{\n    x.observe(outputEl, {childList: true});\n}}\n\n                        })                };                });            </script>        </div>"
     },
     "metadata": {},
     "output_type": "display_data"
    }
   ],
   "source": [
    "model = GPR(x_values, y_values, SquaredExponentialKernel(sigma_f=0.5, length=.5))\n",
    "data = plot_GPR(data_x=x_values, data_y=y_values, x=x, model=model)\n",
    "fig4 = go.Figure(data=data)\n",
    "fig4 = update_layout_of_graph(fig=fig4, title='GPR with length 1, sigma 0 and noise 0')\n",
    "\n",
    "fig4.show()"
   ],
   "metadata": {
    "collapsed": false
   }
  },
  {
   "cell_type": "code",
   "execution_count": null,
   "outputs": [],
   "source": [],
   "metadata": {
    "collapsed": false
   }
  }
 ],
 "metadata": {
  "kernelspec": {
   "display_name": "Python 3 (ipykernel)",
   "language": "python",
   "name": "python3"
  },
  "language_info": {
   "codemirror_mode": {
    "name": "ipython",
    "version": 3
   },
   "file_extension": ".py",
   "mimetype": "text/x-python",
   "name": "python",
   "nbconvert_exporter": "python",
   "pygments_lexer": "ipython3",
   "version": "3.11.0"
  }
 },
 "nbformat": 4,
 "nbformat_minor": 5
}
