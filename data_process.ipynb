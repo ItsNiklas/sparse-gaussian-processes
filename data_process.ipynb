{
 "cells": [
  {
   "cell_type": "markdown",
   "metadata": {},
   "source": [
    "# Read from Excel to CSV"
   ]
  },
  {
   "cell_type": "code",
   "execution_count": 3,
   "metadata": {},
   "outputs": [],
   "source": [
    "import pandas as pd\n",
    "\n",
    "# Read Excel file into a pandas dataframe object\n",
    "f = pd.read_excel(r'data/17766_12_data.xlsx')\n",
    "\n",
    "# Convert dataframe to CSV format and save to disk\n",
    "# Use index=None to exclude row numbers from output\n",
    "f.to_csv(r'data/17766_12_data.csv', index=None)"
   ]
  },
  {
   "cell_type": "markdown",
   "metadata": {},
   "source": [
    "# Process\n",
    "### Load, Group, Rename, Save"
   ]
  },
  {
   "cell_type": "code",
   "execution_count": 15,
   "metadata": {},
   "outputs": [
    {
     "data": {
      "text/plain": "            dendroNr   DOY  hour species    growth\n0        HA_001_2012     0   0.0   Beech     0.000\n1        HA_001_2012     1   0.5   Beech     0.000\n2        HA_001_2012     2   1.0   Beech     0.000\n3        HA_001_2012     3   1.5   Beech     0.000\n4        HA_001_2012     4   2.0   Beech     0.000\n...              ...   ...   ...     ...       ...\n1457969  SH_076_2013  8779  21.5   Beech  3902.797\n1457970  SH_076_2013  8780  22.0   Beech  3902.797\n1457971  SH_076_2013  8781  22.5   Beech  3903.275\n1457972  SH_076_2013  8782  23.0   Beech  3903.275\n1457973  SH_076_2013  8783  23.5   Beech  3903.275\n\n[1457974 rows x 5 columns]",
      "text/html": "<div>\n<style scoped>\n    .dataframe tbody tr th:only-of-type {\n        vertical-align: middle;\n    }\n\n    .dataframe tbody tr th {\n        vertical-align: top;\n    }\n\n    .dataframe thead th {\n        text-align: right;\n    }\n</style>\n<table border=\"1\" class=\"dataframe\">\n  <thead>\n    <tr style=\"text-align: right;\">\n      <th></th>\n      <th>dendroNr</th>\n      <th>DOY</th>\n      <th>hour</th>\n      <th>species</th>\n      <th>growth</th>\n    </tr>\n  </thead>\n  <tbody>\n    <tr>\n      <th>0</th>\n      <td>HA_001_2012</td>\n      <td>0</td>\n      <td>0.0</td>\n      <td>Beech</td>\n      <td>0.000</td>\n    </tr>\n    <tr>\n      <th>1</th>\n      <td>HA_001_2012</td>\n      <td>1</td>\n      <td>0.5</td>\n      <td>Beech</td>\n      <td>0.000</td>\n    </tr>\n    <tr>\n      <th>2</th>\n      <td>HA_001_2012</td>\n      <td>2</td>\n      <td>1.0</td>\n      <td>Beech</td>\n      <td>0.000</td>\n    </tr>\n    <tr>\n      <th>3</th>\n      <td>HA_001_2012</td>\n      <td>3</td>\n      <td>1.5</td>\n      <td>Beech</td>\n      <td>0.000</td>\n    </tr>\n    <tr>\n      <th>4</th>\n      <td>HA_001_2012</td>\n      <td>4</td>\n      <td>2.0</td>\n      <td>Beech</td>\n      <td>0.000</td>\n    </tr>\n    <tr>\n      <th>...</th>\n      <td>...</td>\n      <td>...</td>\n      <td>...</td>\n      <td>...</td>\n      <td>...</td>\n    </tr>\n    <tr>\n      <th>1457969</th>\n      <td>SH_076_2013</td>\n      <td>8779</td>\n      <td>21.5</td>\n      <td>Beech</td>\n      <td>3902.797</td>\n    </tr>\n    <tr>\n      <th>1457970</th>\n      <td>SH_076_2013</td>\n      <td>8780</td>\n      <td>22.0</td>\n      <td>Beech</td>\n      <td>3902.797</td>\n    </tr>\n    <tr>\n      <th>1457971</th>\n      <td>SH_076_2013</td>\n      <td>8781</td>\n      <td>22.5</td>\n      <td>Beech</td>\n      <td>3903.275</td>\n    </tr>\n    <tr>\n      <th>1457972</th>\n      <td>SH_076_2013</td>\n      <td>8782</td>\n      <td>23.0</td>\n      <td>Beech</td>\n      <td>3903.275</td>\n    </tr>\n    <tr>\n      <th>1457973</th>\n      <td>SH_076_2013</td>\n      <td>8783</td>\n      <td>23.5</td>\n      <td>Beech</td>\n      <td>3903.275</td>\n    </tr>\n  </tbody>\n</table>\n<p>1457974 rows × 5 columns</p>\n</div>"
     },
     "execution_count": 15,
     "metadata": {},
     "output_type": "execute_result"
    }
   ],
   "source": [
    "import pandas as pd\n",
    "\n",
    "# Read csv file and only keep necessary columns, handle missing values, and fix data types\n",
    "# RAH: radius of the tree in radius of the tree in micrometer\n",
    "# RAZ_kum: cumulative radial increment of the tree (in micrometres) since April 1, 2012\n",
    "df = pd.read_csv(r\"data/17766_12_data.csv\",\n",
    "                 usecols=['year', 'DOY', 'dendroNr', 'Art', 'RAH', 'RAZ_kum', 'hour'],\n",
    "                 na_values=['.'],\n",
    "                 dtype={'RAH': float, 'RAZ_kum': float}\n",
    "                 )\n",
    "\n",
    "# Convert year column from Excel string to integer\n",
    "df['year'] = df['year'].map(lambda s: s[:4]).astype(int)\n",
    "\n",
    "# Group the data by unique dendroNr, year, DOY, and hour and rename columns\n",
    "df = (\n",
    "    df.groupby(['dendroNr', 'year', 'DOY', 'hour'])\n",
    "    .agg({'Art': 'first', 'RAZ_kum': 'mean', })\n",
    "    .rename(columns={'Art': 'species', 'RAZ_kum': 'growth', })\n",
    "    .reset_index()\n",
    ")\n",
    "\n",
    "# Filter the data by removing completely missing values and selecting specific species and timeframes\n",
    "df = df[\n",
    "    ~df['growth'].isna()\n",
    "    & df['species'].isin(['Es', 'Bu', 'BAh'])\n",
    "    & (\n",
    "            ((df['year'] == 2012) & (df['DOY'] >= 92) & (df['DOY'] <= 274))\n",
    "            | ((df['year'] == 2013) & (df['DOY'] >= 91) & (df['DOY'] <= 273))\n",
    "    )\n",
    "    ]\n",
    "\n",
    "# Reset DOY and growth to zero-start in the Series\n",
    "df = (\n",
    "    df.groupby(['dendroNr', 'year'], group_keys=True)\n",
    "    .apply(\n",
    "        lambda x: x.assign(\n",
    "            DOY=x['DOY'] - x['DOY'].iloc[0], growth=x['growth'] - x['growth'].iloc[0]\n",
    "        )\n",
    "    )\n",
    "    .reset_index(drop=True)\n",
    ")\n",
    "\n",
    "# Change data types for specific columns\n",
    "df['year'] = df['year'].astype('category')\n",
    "df['species'] = pd.Categorical(df['species'], categories=['Bu', 'Es', 'BAh'], ordered=True)\n",
    "df['species'] = df['species'].cat.rename_categories([\"Beech\", \"Ash\", \"Sycamore\"])\n",
    "\n",
    "# Merge tree and year\n",
    "df.dendroNr = (\n",
    "    df[[\"dendroNr\", \"year\"]].astype(str).agg(\"_\".join, axis=1)\n",
    ")\n",
    "df = df.drop(\"year\", axis=1)\n",
    "\n",
    "# Merge DOY\n",
    "df.DOY = df.DOY.mul(48) + df.hour.mul(2)\n",
    "df['DOY'] = df['DOY'].astype('int')\n",
    "\n",
    "# Save processed data to feather file\n",
    "df.to_feather(r'data/17766_12_D.feather')\n",
    "df"
   ]
  },
  {
   "cell_type": "markdown",
   "metadata": {},
   "source": []
  }
 ],
 "metadata": {
  "kernelspec": {
   "display_name": "Python 3 (ipykernel)",
   "language": "python",
   "name": "python3"
  },
  "language_info": {
   "codemirror_mode": {
    "name": "ipython",
    "version": 3
   },
   "file_extension": ".py",
   "mimetype": "text/x-python",
   "name": "python",
   "nbconvert_exporter": "python",
   "pygments_lexer": "ipython3",
   "version": "3.11.0"
  }
 },
 "nbformat": 4,
 "nbformat_minor": 1
}
